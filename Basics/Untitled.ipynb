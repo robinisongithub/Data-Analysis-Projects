{
 "cells": [
  {
   "cell_type": "code",
   "execution_count": 9,
   "id": "31a577b3-3a03-4868-ab5d-83e332207d5b",
   "metadata": {},
   "outputs": [],
   "source": [
    "from selenium import webdriver\n",
    "from selenium.webdriver.common.by import By"
   ]
  },
  {
   "cell_type": "code",
   "execution_count": 10,
   "id": "1eeb35f0-15b7-4597-9884-9f2fad06eb95",
   "metadata": {},
   "outputs": [],
   "source": [
    "driver = webdriver.Chrome()\n"
   ]
  },
  {
   "cell_type": "code",
   "execution_count": 11,
   "id": "b2ec1261-4e14-450d-82ff-f9229ce3fab0",
   "metadata": {},
   "outputs": [],
   "source": [
    "url = 'https://www.nofrills.ca/search?search-bar=tomato'\n",
    "driver.get(url)\n"
   ]
  },
  {
   "cell_type": "code",
   "execution_count": 12,
   "id": "e0759fd7-c243-4444-86a7-52936d23cc9f",
   "metadata": {},
   "outputs": [],
   "source": [
    "# Find all the title elements on the page\n",
    "names = driver.find_elements(By.CLASS_NAME, 'product-tile')"
   ]
  },
  {
   "cell_type": "code",
   "execution_count": 13,
   "id": "fe2cfd2f-7ee9-441d-9d33-ab7cce5081cb",
   "metadata": {},
   "outputs": [],
   "source": [
    "# for name in names:\n",
    "#     text = name.find_element(By.CLASS_NAME, 'product-name__item product-name__item--name').text\n",
    "#     print(text)"
   ]
  },
  {
   "cell_type": "code",
   "execution_count": 14,
   "id": "4a03ee35-cfab-4a64-9eab-e447d4e4561d",
   "metadata": {},
   "outputs": [
    {
     "name": "stdout",
     "output_type": "stream",
     "text": [
      "[<selenium.webdriver.remote.webelement.WebElement (session=\"d229288c0ed95f0471244dc2bf813293\", element=\"F5981E81CA58EBB1BA33CFABAE229758_element_127\")>, <selenium.webdriver.remote.webelement.WebElement (session=\"d229288c0ed95f0471244dc2bf813293\", element=\"F5981E81CA58EBB1BA33CFABAE229758_element_128\")>, <selenium.webdriver.remote.webelement.WebElement (session=\"d229288c0ed95f0471244dc2bf813293\", element=\"F5981E81CA58EBB1BA33CFABAE229758_element_129\")>, <selenium.webdriver.remote.webelement.WebElement (session=\"d229288c0ed95f0471244dc2bf813293\", element=\"F5981E81CA58EBB1BA33CFABAE229758_element_130\")>, <selenium.webdriver.remote.webelement.WebElement (session=\"d229288c0ed95f0471244dc2bf813293\", element=\"F5981E81CA58EBB1BA33CFABAE229758_element_131\")>, <selenium.webdriver.remote.webelement.WebElement (session=\"d229288c0ed95f0471244dc2bf813293\", element=\"F5981E81CA58EBB1BA33CFABAE229758_element_132\")>, <selenium.webdriver.remote.webelement.WebElement (session=\"d229288c0ed95f0471244dc2bf813293\", element=\"F5981E81CA58EBB1BA33CFABAE229758_element_133\")>, <selenium.webdriver.remote.webelement.WebElement (session=\"d229288c0ed95f0471244dc2bf813293\", element=\"F5981E81CA58EBB1BA33CFABAE229758_element_134\")>, <selenium.webdriver.remote.webelement.WebElement (session=\"d229288c0ed95f0471244dc2bf813293\", element=\"F5981E81CA58EBB1BA33CFABAE229758_element_135\")>, <selenium.webdriver.remote.webelement.WebElement (session=\"d229288c0ed95f0471244dc2bf813293\", element=\"F5981E81CA58EBB1BA33CFABAE229758_element_136\")>, <selenium.webdriver.remote.webelement.WebElement (session=\"d229288c0ed95f0471244dc2bf813293\", element=\"F5981E81CA58EBB1BA33CFABAE229758_element_137\")>, <selenium.webdriver.remote.webelement.WebElement (session=\"d229288c0ed95f0471244dc2bf813293\", element=\"F5981E81CA58EBB1BA33CFABAE229758_element_138\")>, <selenium.webdriver.remote.webelement.WebElement (session=\"d229288c0ed95f0471244dc2bf813293\", element=\"F5981E81CA58EBB1BA33CFABAE229758_element_139\")>, <selenium.webdriver.remote.webelement.WebElement (session=\"d229288c0ed95f0471244dc2bf813293\", element=\"F5981E81CA58EBB1BA33CFABAE229758_element_140\")>, <selenium.webdriver.remote.webelement.WebElement (session=\"d229288c0ed95f0471244dc2bf813293\", element=\"F5981E81CA58EBB1BA33CFABAE229758_element_141\")>, <selenium.webdriver.remote.webelement.WebElement (session=\"d229288c0ed95f0471244dc2bf813293\", element=\"F5981E81CA58EBB1BA33CFABAE229758_element_142\")>, <selenium.webdriver.remote.webelement.WebElement (session=\"d229288c0ed95f0471244dc2bf813293\", element=\"F5981E81CA58EBB1BA33CFABAE229758_element_143\")>, <selenium.webdriver.remote.webelement.WebElement (session=\"d229288c0ed95f0471244dc2bf813293\", element=\"F5981E81CA58EBB1BA33CFABAE229758_element_144\")>, <selenium.webdriver.remote.webelement.WebElement (session=\"d229288c0ed95f0471244dc2bf813293\", element=\"F5981E81CA58EBB1BA33CFABAE229758_element_145\")>, <selenium.webdriver.remote.webelement.WebElement (session=\"d229288c0ed95f0471244dc2bf813293\", element=\"F5981E81CA58EBB1BA33CFABAE229758_element_146\")>, <selenium.webdriver.remote.webelement.WebElement (session=\"d229288c0ed95f0471244dc2bf813293\", element=\"F5981E81CA58EBB1BA33CFABAE229758_element_147\")>, <selenium.webdriver.remote.webelement.WebElement (session=\"d229288c0ed95f0471244dc2bf813293\", element=\"F5981E81CA58EBB1BA33CFABAE229758_element_148\")>, <selenium.webdriver.remote.webelement.WebElement (session=\"d229288c0ed95f0471244dc2bf813293\", element=\"F5981E81CA58EBB1BA33CFABAE229758_element_149\")>, <selenium.webdriver.remote.webelement.WebElement (session=\"d229288c0ed95f0471244dc2bf813293\", element=\"F5981E81CA58EBB1BA33CFABAE229758_element_150\")>, <selenium.webdriver.remote.webelement.WebElement (session=\"d229288c0ed95f0471244dc2bf813293\", element=\"F5981E81CA58EBB1BA33CFABAE229758_element_151\")>, <selenium.webdriver.remote.webelement.WebElement (session=\"d229288c0ed95f0471244dc2bf813293\", element=\"F5981E81CA58EBB1BA33CFABAE229758_element_152\")>, <selenium.webdriver.remote.webelement.WebElement (session=\"d229288c0ed95f0471244dc2bf813293\", element=\"F5981E81CA58EBB1BA33CFABAE229758_element_153\")>, <selenium.webdriver.remote.webelement.WebElement (session=\"d229288c0ed95f0471244dc2bf813293\", element=\"F5981E81CA58EBB1BA33CFABAE229758_element_154\")>, <selenium.webdriver.remote.webelement.WebElement (session=\"d229288c0ed95f0471244dc2bf813293\", element=\"F5981E81CA58EBB1BA33CFABAE229758_element_155\")>, <selenium.webdriver.remote.webelement.WebElement (session=\"d229288c0ed95f0471244dc2bf813293\", element=\"F5981E81CA58EBB1BA33CFABAE229758_element_156\")>, <selenium.webdriver.remote.webelement.WebElement (session=\"d229288c0ed95f0471244dc2bf813293\", element=\"F5981E81CA58EBB1BA33CFABAE229758_element_157\")>, <selenium.webdriver.remote.webelement.WebElement (session=\"d229288c0ed95f0471244dc2bf813293\", element=\"F5981E81CA58EBB1BA33CFABAE229758_element_158\")>, <selenium.webdriver.remote.webelement.WebElement (session=\"d229288c0ed95f0471244dc2bf813293\", element=\"F5981E81CA58EBB1BA33CFABAE229758_element_159\")>, <selenium.webdriver.remote.webelement.WebElement (session=\"d229288c0ed95f0471244dc2bf813293\", element=\"F5981E81CA58EBB1BA33CFABAE229758_element_160\")>, <selenium.webdriver.remote.webelement.WebElement (session=\"d229288c0ed95f0471244dc2bf813293\", element=\"F5981E81CA58EBB1BA33CFABAE229758_element_161\")>, <selenium.webdriver.remote.webelement.WebElement (session=\"d229288c0ed95f0471244dc2bf813293\", element=\"F5981E81CA58EBB1BA33CFABAE229758_element_162\")>, <selenium.webdriver.remote.webelement.WebElement (session=\"d229288c0ed95f0471244dc2bf813293\", element=\"F5981E81CA58EBB1BA33CFABAE229758_element_163\")>, <selenium.webdriver.remote.webelement.WebElement (session=\"d229288c0ed95f0471244dc2bf813293\", element=\"F5981E81CA58EBB1BA33CFABAE229758_element_164\")>, <selenium.webdriver.remote.webelement.WebElement (session=\"d229288c0ed95f0471244dc2bf813293\", element=\"F5981E81CA58EBB1BA33CFABAE229758_element_165\")>, <selenium.webdriver.remote.webelement.WebElement (session=\"d229288c0ed95f0471244dc2bf813293\", element=\"F5981E81CA58EBB1BA33CFABAE229758_element_166\")>, <selenium.webdriver.remote.webelement.WebElement (session=\"d229288c0ed95f0471244dc2bf813293\", element=\"F5981E81CA58EBB1BA33CFABAE229758_element_167\")>, <selenium.webdriver.remote.webelement.WebElement (session=\"d229288c0ed95f0471244dc2bf813293\", element=\"F5981E81CA58EBB1BA33CFABAE229758_element_168\")>, <selenium.webdriver.remote.webelement.WebElement (session=\"d229288c0ed95f0471244dc2bf813293\", element=\"F5981E81CA58EBB1BA33CFABAE229758_element_169\")>, <selenium.webdriver.remote.webelement.WebElement (session=\"d229288c0ed95f0471244dc2bf813293\", element=\"F5981E81CA58EBB1BA33CFABAE229758_element_170\")>, <selenium.webdriver.remote.webelement.WebElement (session=\"d229288c0ed95f0471244dc2bf813293\", element=\"F5981E81CA58EBB1BA33CFABAE229758_element_171\")>, <selenium.webdriver.remote.webelement.WebElement (session=\"d229288c0ed95f0471244dc2bf813293\", element=\"F5981E81CA58EBB1BA33CFABAE229758_element_172\")>, <selenium.webdriver.remote.webelement.WebElement (session=\"d229288c0ed95f0471244dc2bf813293\", element=\"F5981E81CA58EBB1BA33CFABAE229758_element_173\")>, <selenium.webdriver.remote.webelement.WebElement (session=\"d229288c0ed95f0471244dc2bf813293\", element=\"F5981E81CA58EBB1BA33CFABAE229758_element_174\")>]\n"
     ]
    }
   ],
   "source": [
    "print(names)"
   ]
  },
  {
   "cell_type": "code",
   "execution_count": 18,
   "id": "df52e840-7b54-4166-9d74-e6af3a6c8727",
   "metadata": {},
   "outputs": [
    {
     "ename": "AttributeError",
     "evalue": "type object 'By' has no attribute 'ELEMENT'",
     "output_type": "error",
     "traceback": [
      "\u001b[1;31m---------------------------------------------------------------------------\u001b[0m",
      "\u001b[1;31mAttributeError\u001b[0m                            Traceback (most recent call last)",
      "Cell \u001b[1;32mIn[18], line 2\u001b[0m\n\u001b[0;32m      1\u001b[0m \u001b[38;5;28;01mfor\u001b[39;00m name \u001b[38;5;129;01min\u001b[39;00m names:\n\u001b[1;32m----> 2\u001b[0m     text \u001b[38;5;241m=\u001b[39m name\u001b[38;5;241m.\u001b[39mfind_element(\u001b[43mBy\u001b[49m\u001b[38;5;241;43m.\u001b[39;49m\u001b[43mELEMENT\u001b[49m, \u001b[38;5;124m'\u001b[39m\u001b[38;5;124mspan\u001b[39m\u001b[38;5;124m'\u001b[39m)\u001b[38;5;241m.\u001b[39mtext\n\u001b[0;32m      3\u001b[0m     \u001b[38;5;28mprint\u001b[39m(text)\n",
      "\u001b[1;31mAttributeError\u001b[0m: type object 'By' has no attribute 'ELEMENT'"
     ]
    }
   ],
   "source": [
    "for name in names:\n",
    "    text = name.find_element(By.ClASS, 'span').text\n",
    "    print(text)"
   ]
  },
  {
   "cell_type": "code",
   "execution_count": null,
   "id": "61e700fe-8be7-4d09-bacd-985ebe24348e",
   "metadata": {},
   "outputs": [],
   "source": []
  }
 ],
 "metadata": {
  "kernelspec": {
   "display_name": "Python 3 (ipykernel)",
   "language": "python",
   "name": "python3"
  },
  "language_info": {
   "codemirror_mode": {
    "name": "ipython",
    "version": 3
   },
   "file_extension": ".py",
   "mimetype": "text/x-python",
   "name": "python",
   "nbconvert_exporter": "python",
   "pygments_lexer": "ipython3",
   "version": "3.11.5"
  }
 },
 "nbformat": 4,
 "nbformat_minor": 5
}
