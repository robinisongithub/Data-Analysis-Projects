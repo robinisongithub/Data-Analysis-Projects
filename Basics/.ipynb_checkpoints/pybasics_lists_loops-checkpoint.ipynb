{
 "cells": [
  {
   "cell_type": "markdown",
   "id": "96c2b0ba-80af-452a-881e-7c7f49e4268d",
   "metadata": {},
   "source": [
    "To create a list just put the variables in '[ ]' brackets with\n",
    "variables seperated my \",\""
   ]
  },
  {
   "cell_type": "code",
   "execution_count": 1,
   "id": "578ded65-f465-4abe-a3fe-a5d871640730",
   "metadata": {},
   "outputs": [
    {
     "name": "stdout",
     "output_type": "stream",
     "text": [
      "[1, 2, 3, 'hello', 5.5]\n",
      "<class 'list'>\n",
      "5\n"
     ]
    }
   ],
   "source": [
    "#eg\n",
    "a = [1,2,3,\"hello\",5.5]\n",
    "#print list\n",
    "print(a)\n",
    "#check type of the variable\n",
    "print(type(a))\n",
    "\n",
    "#to check length of list we use len() function\n",
    "print(len(a))"
   ]
  },
  {
   "cell_type": "markdown",
   "id": "9d4365ce-1017-47f4-8115-aef5d4eb2218",
   "metadata": {},
   "source": [
    "List Indexing, by default starts from 0\n",
    "for example 0,1,2,3,4\n",
    "a[0],a[1],a[3]....\n",
    "Also, we have Negative Indexing in Lists as well:\n",
    "It goes like -1,-2,-3,-4\n",
    "and it goes from right to left. -1, a[-1] will give the last\n",
    "Item in the list"
   ]
  },
  {
   "cell_type": "code",
   "execution_count": 2,
   "id": "4153c6f4-76d6-48e6-b9b9-94204b28137f",
   "metadata": {},
   "outputs": [
    {
     "name": "stdout",
     "output_type": "stream",
     "text": [
      "[1, 2, 3, 'hello', 5.5]\n",
      "Last element is: 5.5\n"
     ]
    }
   ],
   "source": [
    "#for example\n",
    "print(a)\n",
    "print(\"Last element is: \"+ str(a[-1]))"
   ]
  },
  {
   "cell_type": "markdown",
   "id": "a1c51ee4-bd5a-4406-a650-cba1f0e85e8b",
   "metadata": {},
   "source": [
    "We can create multiple lists from the list above\n",
    "by referencing the list elements and storing them in another list"
   ]
  },
  {
   "cell_type": "code",
   "execution_count": 3,
   "id": "9dfa2067-b8de-47ae-9da8-019ef7013c91",
   "metadata": {},
   "outputs": [
    {
     "name": "stdout",
     "output_type": "stream",
     "text": [
      "This is the original list \n",
      "[1, 2, 3, 'hello', 5.5]\n"
     ]
    }
   ],
   "source": [
    "print(\"This is the original list \\n\"+ str(a))"
   ]
  },
  {
   "cell_type": "code",
   "execution_count": 4,
   "id": "45f48cff-4f5e-4913-bda5-294ca85b2990",
   "metadata": {},
   "outputs": [
    {
     "name": "stdout",
     "output_type": "stream",
     "text": [
      "The new list b is : \n",
      "(1, 2, 'hello')\n"
     ]
    }
   ],
   "source": [
    "b = [] #creating an empty list\n",
    "b = a[0],a[1],a[3]\n",
    "print(\"The new list b is : \\n\"+str(b))"
   ]
  },
  {
   "cell_type": "markdown",
   "id": "cabead85-1cd1-4419-b935-1f1804124dfa",
   "metadata": {},
   "source": [
    "<h2>List Slicing</h2>"
   ]
  },
  {
   "cell_type": "markdown",
   "id": "7c098e26-3b18-4811-8bbb-92e0b0d70f3d",
   "metadata": {},
   "source": [
    "we can use ':', example print(a[0:3])\n",
    "which will print the first 3 items"
   ]
  },
  {
   "cell_type": "code",
   "execution_count": 5,
   "id": "3f2e1095-9cd1-499f-a7be-846a84b9700e",
   "metadata": {},
   "outputs": [
    {
     "name": "stdout",
     "output_type": "stream",
     "text": [
      "[1, 2, 3]\n"
     ]
    }
   ],
   "source": [
    "#example\n",
    "print(a[0:3])"
   ]
  },
  {
   "cell_type": "code",
   "execution_count": 6,
   "id": "e0411841-ce8b-48c6-a494-28b0e5af503d",
   "metadata": {},
   "outputs": [
    {
     "name": "stdout",
     "output_type": "stream",
     "text": [
      "[3, 'hello', 5.5]\n"
     ]
    }
   ],
   "source": [
    "#To print the last 3 items in the list we can use\n",
    "print(a[-3:])"
   ]
  },
  {
   "cell_type": "markdown",
   "id": "7539396d-3dc0-4392-9f8c-c25be506f746",
   "metadata": {},
   "source": [
    "<h3>List of Lists</h3>"
   ]
  },
  {
   "cell_type": "code",
   "execution_count": 7,
   "id": "c652fa3f-d779-42d1-a890-fdbfb930b36e",
   "metadata": {},
   "outputs": [],
   "source": [
    "#Let's say we have 3 lists\n",
    "l1 = ['Facebook', 0.0, 'USD', 2974676, 3.5]\n",
    "l2 = ['Instagram', 0.0, 'USD', 2161558, 4.5]\n",
    "l3 = ['Clash of Clans', 0.0, 'USD', 2130805, 4.5]\n",
    "\n",
    "list_of_lists = [l1,l2,l3]\n"
   ]
  },
  {
   "cell_type": "code",
   "execution_count": 8,
   "id": "939cdde2-05d9-45ab-8014-2a5c30486b97",
   "metadata": {},
   "outputs": [
    {
     "name": "stdout",
     "output_type": "stream",
     "text": [
      "['Facebook', 0.0, 'USD', 2974676, 3.5]\n",
      "['Instagram', 0.0, 'USD', 2161558, 4.5]\n",
      "['Clash of Clans', 0.0, 'USD', 2130805, 4.5]\n"
     ]
    }
   ],
   "source": [
    "for list in list_of_lists:\n",
    "    print(list)"
   ]
  },
  {
   "cell_type": "markdown",
   "id": "97ad68cc-38ee-4a92-b213-b1390af3a078",
   "metadata": {},
   "source": [
    "To grab a particular item from a list of lists we can use\n",
    "a[x][y], where we can define x as the first list in the master list\n",
    "and why as the index of the item that we want to grab from the\n",
    "target list"
   ]
  },
  {
   "cell_type": "code",
   "execution_count": 9,
   "id": "0e7ed465-a900-4d0a-8a74-8d7512da6c93",
   "metadata": {},
   "outputs": [
    {
     "name": "stdout",
     "output_type": "stream",
     "text": [
      "4.5\n"
     ]
    }
   ],
   "source": [
    "#Exmaple\n",
    "print(list_of_lists[2][-1])"
   ]
  },
  {
   "cell_type": "markdown",
   "id": "d644d3ed-1126-41ba-b853-5fa01aec7877",
   "metadata": {},
   "source": [
    "<h2>Loops</h2>"
   ]
  },
  {
   "cell_type": "code",
   "execution_count": 10,
   "id": "1cb61a13-42a5-4bf0-ba9c-ca26f292f775",
   "metadata": {},
   "outputs": [
    {
     "name": "stdout",
     "output_type": "stream",
     "text": [
      "1\n",
      "2\n",
      "3\n",
      "hello\n",
      "5.5\n"
     ]
    }
   ],
   "source": [
    "#For loop\n",
    "#Syntax for element in List:\n",
    "            #print\n",
    "    \n",
    "for element in a:\n",
    "    print(element)"
   ]
  },
  {
   "cell_type": "code",
   "execution_count": 11,
   "id": "2025b3b7-4aa6-4a63-b508-4797c65c50ab",
   "metadata": {},
   "outputs": [],
   "source": [
    "row_1 = ['Facebook', 0.0, 'USD', 2974676, 3.5]\n",
    "row_2 = ['Instagram', 0.0, 'USD', 2161558, 4.5]\n",
    "row_3 = ['Clash of Clans', 0.0, 'USD', 2130805, 4.5]\n",
    "row_4 = ['Fruit Ninja Classic', 1.99, 'USD', 698516, 4.5]\n",
    "row_5 = ['Minecraft: Pocket Edition', 6.99, 'USD', 522012, 4.5]\n",
    "\n",
    "app_data_set = [row_1, row_2, row_3, row_4, row_5]"
   ]
  },
  {
   "cell_type": "code",
   "execution_count": 12,
   "id": "b0d5cb0d-2509-44ee-9606-19c45507b5dc",
   "metadata": {},
   "outputs": [
    {
     "name": "stdout",
     "output_type": "stream",
     "text": [
      "3.5\n",
      "4.5\n",
      "4.5\n",
      "4.5\n",
      "4.5\n",
      "the average is :4.3\n"
     ]
    }
   ],
   "source": [
    "#extract rating and find average\n",
    "count = 0\n",
    "rsum = 0\n",
    "for row in app_data_set:\n",
    "    print(row[4])\n",
    "    count += 1\n",
    "    rsum += row[4]\n",
    "ravg = rsum/count\n",
    "print(\"the average is :\"+ str(ravg))"
   ]
  },
  {
   "cell_type": "code",
   "execution_count": null,
   "id": "f2674d90-7709-4f87-9707-b1caf8f7ed40",
   "metadata": {},
   "outputs": [],
   "source": []
  },
  {
   "cell_type": "markdown",
   "id": "0e355a1b-6aaa-4f2d-9e64-0c960f69c94c",
   "metadata": {},
   "source": [
    "We can use \n",
    "from csv import reader to read csv file to a list"
   ]
  },
  {
   "cell_type": "markdown",
   "id": "9e6e71b9-3810-47a0-b5bb-5eb67daba9ef",
   "metadata": {},
   "source": [
    "opened_file = open('immigration.csv')\n",
    "from csv import reader\n",
    "read_file = reader(opened_file)\n",
    "file = list(read_file)"
   ]
  },
  {
   "cell_type": "code",
   "execution_count": 24,
   "id": "637e91f1-ebaa-4334-996e-77c26a37b360",
   "metadata": {},
   "outputs": [],
   "source": [
    "x = [1,2,3,4,5,7]\n",
    "y = [1,2,3,'gg','sg',4.5]\n",
    "x.append(5)"
   ]
  },
  {
   "cell_type": "code",
   "execution_count": 25,
   "id": "b9cb29b3-4363-436d-980c-c45bca40f28e",
   "metadata": {},
   "outputs": [
    {
     "data": {
      "text/plain": [
       "[1, 2, 3, 4, 5, 7, 5]"
      ]
     },
     "execution_count": 25,
     "metadata": {},
     "output_type": "execute_result"
    }
   ],
   "source": [
    "x"
   ]
  },
  {
   "cell_type": "code",
   "execution_count": 26,
   "id": "1ca8446c-58d9-43ae-90f9-56e229a515dc",
   "metadata": {},
   "outputs": [],
   "source": [
    "x.append(y)"
   ]
  },
  {
   "cell_type": "code",
   "execution_count": 27,
   "id": "c6c0d319-0f13-43c3-a1bd-20b6152a6963",
   "metadata": {},
   "outputs": [
    {
     "data": {
      "text/plain": [
       "[1, 2, 3, 4, 5, 7, 5, [1, 2, 3, 'gg', 'sg', 4.5]]"
      ]
     },
     "execution_count": 27,
     "metadata": {},
     "output_type": "execute_result"
    }
   ],
   "source": [
    "x"
   ]
  },
  {
   "cell_type": "code",
   "execution_count": null,
   "id": "cfc9f8e0-6d2b-406c-8817-a76a7645435b",
   "metadata": {},
   "outputs": [],
   "source": []
  }
 ],
 "metadata": {
  "kernelspec": {
   "display_name": "Python 3 (ipykernel)",
   "language": "python",
   "name": "python3"
  },
  "language_info": {
   "codemirror_mode": {
    "name": "ipython",
    "version": 3
   },
   "file_extension": ".py",
   "mimetype": "text/x-python",
   "name": "python",
   "nbconvert_exporter": "python",
   "pygments_lexer": "ipython3",
   "version": "3.11.1"
  }
 },
 "nbformat": 4,
 "nbformat_minor": 5
}
