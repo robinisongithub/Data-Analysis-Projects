{
 "cells": [
  {
   "cell_type": "code",
   "execution_count": 3,
   "id": "5d1a78cf-f7c2-43d9-8d1d-d077241fdde2",
   "metadata": {},
   "outputs": [],
   "source": [
    "opened_file = open('AppleStore.csv',encoding='utf-8')\n",
    "import csv\n",
    "read_file = csv.reader(opened_file)\n",
    "apps_data = list(read_file)"
   ]
  },
  {
   "cell_type": "code",
   "execution_count": 5,
   "id": "383319f3-d423-43fa-8f8f-e6289f4e56d7",
   "metadata": {},
   "outputs": [
    {
     "data": {
      "text/plain": [
       "['',\n",
       " 'id',\n",
       " 'track_name',\n",
       " 'size_bytes',\n",
       " 'currency',\n",
       " 'price',\n",
       " 'rating_count_tot',\n",
       " 'rating_count_ver',\n",
       " 'user_rating',\n",
       " 'user_rating_ver',\n",
       " 'ver',\n",
       " 'cont_rating',\n",
       " 'prime_genre',\n",
       " 'sup_devices.num',\n",
       " 'ipadSc_urls.num',\n",
       " 'lang.num',\n",
       " 'vpp_lic']"
      ]
     },
     "execution_count": 5,
     "metadata": {},
     "output_type": "execute_result"
    }
   ],
   "source": [
    "apps_data[0]"
   ]
  },
  {
   "cell_type": "code",
   "execution_count": 6,
   "id": "b84e4a7f-06de-4ec1-a561-b41e391e55a0",
   "metadata": {},
   "outputs": [],
   "source": [
    "#this is how we can read a csv file and convert to a list"
   ]
  },
  {
   "cell_type": "code",
   "execution_count": null,
   "id": "acbad887-eb16-41df-b0b1-600d33e3fd91",
   "metadata": {},
   "outputs": [],
   "source": []
  },
  {
   "cell_type": "code",
   "execution_count": null,
   "id": "e1f22d62-7b6d-435f-a53a-731c202ead0f",
   "metadata": {},
   "outputs": [],
   "source": []
  },
  {
   "cell_type": "code",
   "execution_count": null,
   "id": "34daaf41-1e8e-4533-9b9b-cb0fdce38576",
   "metadata": {},
   "outputs": [],
   "source": []
  }
 ],
 "metadata": {
  "kernelspec": {
   "display_name": "Python 3 (ipykernel)",
   "language": "python",
   "name": "python3"
  },
  "language_info": {
   "codemirror_mode": {
    "name": "ipython",
    "version": 3
   },
   "file_extension": ".py",
   "mimetype": "text/x-python",
   "name": "python",
   "nbconvert_exporter": "python",
   "pygments_lexer": "ipython3",
   "version": "3.11.1"
  }
 },
 "nbformat": 4,
 "nbformat_minor": 5
}
