{
 "cells": [
  {
   "cell_type": "code",
   "execution_count": 2,
   "id": "cfbd23ee-2d94-4a17-962f-56369e5cb7c9",
   "metadata": {},
   "outputs": [],
   "source": [
    "import pandas as pd"
   ]
  },
  {
   "cell_type": "code",
   "execution_count": 3,
   "id": "1267e28a-6672-4d95-a88b-6ba527deaf14",
   "metadata": {},
   "outputs": [
    {
     "name": "stdout",
     "output_type": "stream",
     "text": [
      "CPU times: total: 2.05 s\n",
      "Wall time: 2.06 s\n"
     ]
    }
   ],
   "source": [
    "%time df = pd.read_csv(\"201306-citibike-tripdata.csv\")"
   ]
  },
  {
   "cell_type": "code",
   "execution_count": 4,
   "id": "e768e1dd-9440-4c8f-9917-bdf7b2c6c971",
   "metadata": {},
   "outputs": [
    {
     "data": {
      "text/plain": [
       "Index(['tripduration', 'starttime', 'stoptime', 'start station id',\n",
       "       'start station name', 'start station latitude',\n",
       "       'start station longitude', 'end station id', 'end station name',\n",
       "       'end station latitude', 'end station longitude', 'bikeid', 'usertype',\n",
       "       'birth year', 'gender'],\n",
       "      dtype='object')"
      ]
     },
     "execution_count": 4,
     "metadata": {},
     "output_type": "execute_result"
    }
   ],
   "source": [
    "df.columns"
   ]
  },
  {
   "cell_type": "code",
   "execution_count": 5,
   "id": "0a00589c-0b48-4bda-a8d0-08fb8a8ac47b",
   "metadata": {},
   "outputs": [
    {
     "data": {
      "text/plain": [
       "tripduration                    0\n",
       "starttime                       0\n",
       "stoptime                        0\n",
       "start station id                0\n",
       "start station name              0\n",
       "start station latitude          0\n",
       "start station longitude         0\n",
       "end station id              18059\n",
       "end station name            18059\n",
       "end station latitude        18059\n",
       "end station longitude       18059\n",
       "bikeid                          0\n",
       "usertype                        0\n",
       "birth year                 240321\n",
       "gender                          0\n",
       "dtype: int64"
      ]
     },
     "execution_count": 5,
     "metadata": {},
     "output_type": "execute_result"
    }
   ],
   "source": [
    "df.isnull().sum()"
   ]
  },
  {
   "cell_type": "code",
   "execution_count": 6,
   "id": "2981a9c1-6fc5-443f-9409-da78edbb82ec",
   "metadata": {},
   "outputs": [],
   "source": [
    "df.rename(columns = {'tripduration' : 'trip_duration'}, inplace=1)"
   ]
  },
  {
   "cell_type": "code",
   "execution_count": 7,
   "id": "4d4307e8-c402-417d-96c5-b94feeac6663",
   "metadata": {},
   "outputs": [
    {
     "data": {
      "text/plain": [
       "Index(['trip_duration', 'starttime', 'stoptime', 'start station id',\n",
       "       'start station name', 'start station latitude',\n",
       "       'start station longitude', 'end station id', 'end station name',\n",
       "       'end station latitude', 'end station longitude', 'bikeid', 'usertype',\n",
       "       'birth year', 'gender'],\n",
       "      dtype='object')"
      ]
     },
     "execution_count": 7,
     "metadata": {},
     "output_type": "execute_result"
    }
   ],
   "source": [
    "df.columns"
   ]
  },
  {
   "cell_type": "code",
   "execution_count": 8,
   "id": "f4f81ef6-8c33-4ce1-a9d8-7a882ddb3b39",
   "metadata": {},
   "outputs": [
    {
     "data": {
      "text/plain": [
       "trip_duration                   0\n",
       "starttime                       0\n",
       "stoptime                        0\n",
       "start station id                0\n",
       "start station name              0\n",
       "start station latitude          0\n",
       "start station longitude         0\n",
       "end station id              18059\n",
       "end station name            18059\n",
       "end station latitude        18059\n",
       "end station longitude       18059\n",
       "bikeid                          0\n",
       "usertype                        0\n",
       "birth year                 240321\n",
       "gender                          0\n",
       "dtype: int64"
      ]
     },
     "execution_count": 8,
     "metadata": {},
     "output_type": "execute_result"
    }
   ],
   "source": [
    "df.isnull().sum()"
   ]
  },
  {
   "cell_type": "code",
   "execution_count": 11,
   "id": "851a3330-a0d6-481a-b9d7-78c1c041d6cd",
   "metadata": {},
   "outputs": [
    {
     "data": {
      "text/html": [
       "<div>\n",
       "<style scoped>\n",
       "    .dataframe tbody tr th:only-of-type {\n",
       "        vertical-align: middle;\n",
       "    }\n",
       "\n",
       "    .dataframe tbody tr th {\n",
       "        vertical-align: top;\n",
       "    }\n",
       "\n",
       "    .dataframe thead th {\n",
       "        text-align: right;\n",
       "    }\n",
       "</style>\n",
       "<table border=\"1\" class=\"dataframe\">\n",
       "  <thead>\n",
       "    <tr style=\"text-align: right;\">\n",
       "      <th></th>\n",
       "      <th>trip_duration</th>\n",
       "      <th>starttime</th>\n",
       "      <th>stoptime</th>\n",
       "      <th>start station id</th>\n",
       "      <th>start station name</th>\n",
       "      <th>start station latitude</th>\n",
       "      <th>start station longitude</th>\n",
       "      <th>end station id</th>\n",
       "      <th>end station name</th>\n",
       "      <th>end station latitude</th>\n",
       "      <th>end station longitude</th>\n",
       "      <th>bikeid</th>\n",
       "      <th>usertype</th>\n",
       "      <th>birth year</th>\n",
       "      <th>gender</th>\n",
       "    </tr>\n",
       "  </thead>\n",
       "  <tbody>\n",
       "    <tr>\n",
       "      <th>56</th>\n",
       "      <td>547</td>\n",
       "      <td>2013-06-01 00:11:04</td>\n",
       "      <td>2013-06-01 00:20:11</td>\n",
       "      <td>432</td>\n",
       "      <td>E 7 St &amp; Avenue A</td>\n",
       "      <td>40.726218</td>\n",
       "      <td>-73.983799</td>\n",
       "      <td>NaN</td>\n",
       "      <td>NaN</td>\n",
       "      <td>NaN</td>\n",
       "      <td>NaN</td>\n",
       "      <td>17470</td>\n",
       "      <td>Subscriber</td>\n",
       "      <td>1980.0</td>\n",
       "      <td>1</td>\n",
       "    </tr>\n",
       "    <tr>\n",
       "      <th>102</th>\n",
       "      <td>537</td>\n",
       "      <td>2013-06-01 00:40:27</td>\n",
       "      <td>2013-06-01 00:49:24</td>\n",
       "      <td>482</td>\n",
       "      <td>W 15 St &amp; 7 Ave</td>\n",
       "      <td>40.739355</td>\n",
       "      <td>-73.999318</td>\n",
       "      <td>NaN</td>\n",
       "      <td>NaN</td>\n",
       "      <td>NaN</td>\n",
       "      <td>NaN</td>\n",
       "      <td>15090</td>\n",
       "      <td>Subscriber</td>\n",
       "      <td>1981.0</td>\n",
       "      <td>1</td>\n",
       "    </tr>\n",
       "    <tr>\n",
       "      <th>120</th>\n",
       "      <td>472</td>\n",
       "      <td>2013-06-01 00:47:51</td>\n",
       "      <td>2013-06-01 00:55:43</td>\n",
       "      <td>528</td>\n",
       "      <td>2 Ave &amp; E 31 St</td>\n",
       "      <td>40.742909</td>\n",
       "      <td>-73.977061</td>\n",
       "      <td>NaN</td>\n",
       "      <td>NaN</td>\n",
       "      <td>NaN</td>\n",
       "      <td>NaN</td>\n",
       "      <td>16257</td>\n",
       "      <td>Subscriber</td>\n",
       "      <td>1965.0</td>\n",
       "      <td>1</td>\n",
       "    </tr>\n",
       "    <tr>\n",
       "      <th>211</th>\n",
       "      <td>153</td>\n",
       "      <td>2013-06-01 01:32:55</td>\n",
       "      <td>2013-06-01 01:35:28</td>\n",
       "      <td>284</td>\n",
       "      <td>Greenwich Ave &amp; 8 Ave</td>\n",
       "      <td>40.739017</td>\n",
       "      <td>-74.002638</td>\n",
       "      <td>NaN</td>\n",
       "      <td>NaN</td>\n",
       "      <td>NaN</td>\n",
       "      <td>NaN</td>\n",
       "      <td>20106</td>\n",
       "      <td>Subscriber</td>\n",
       "      <td>1987.0</td>\n",
       "      <td>1</td>\n",
       "    </tr>\n",
       "    <tr>\n",
       "      <th>289</th>\n",
       "      <td>841</td>\n",
       "      <td>2013-06-01 02:28:10</td>\n",
       "      <td>2013-06-01 02:42:11</td>\n",
       "      <td>509</td>\n",
       "      <td>9 Ave &amp; W 22 St</td>\n",
       "      <td>40.745497</td>\n",
       "      <td>-74.001971</td>\n",
       "      <td>NaN</td>\n",
       "      <td>NaN</td>\n",
       "      <td>NaN</td>\n",
       "      <td>NaN</td>\n",
       "      <td>18792</td>\n",
       "      <td>Customer</td>\n",
       "      <td>NaN</td>\n",
       "      <td>0</td>\n",
       "    </tr>\n",
       "    <tr>\n",
       "      <th>...</th>\n",
       "      <td>...</td>\n",
       "      <td>...</td>\n",
       "      <td>...</td>\n",
       "      <td>...</td>\n",
       "      <td>...</td>\n",
       "      <td>...</td>\n",
       "      <td>...</td>\n",
       "      <td>...</td>\n",
       "      <td>...</td>\n",
       "      <td>...</td>\n",
       "      <td>...</td>\n",
       "      <td>...</td>\n",
       "      <td>...</td>\n",
       "      <td>...</td>\n",
       "      <td>...</td>\n",
       "    </tr>\n",
       "    <tr>\n",
       "      <th>577559</th>\n",
       "      <td>357</td>\n",
       "      <td>2013-06-30 23:34:43</td>\n",
       "      <td>2013-06-30 23:40:40</td>\n",
       "      <td>174</td>\n",
       "      <td>E 25 St &amp; 1 Ave</td>\n",
       "      <td>40.738177</td>\n",
       "      <td>-73.977387</td>\n",
       "      <td>NaN</td>\n",
       "      <td>NaN</td>\n",
       "      <td>NaN</td>\n",
       "      <td>NaN</td>\n",
       "      <td>19258</td>\n",
       "      <td>Subscriber</td>\n",
       "      <td>1986.0</td>\n",
       "      <td>1</td>\n",
       "    </tr>\n",
       "    <tr>\n",
       "      <th>577598</th>\n",
       "      <td>702</td>\n",
       "      <td>2013-06-30 23:41:28</td>\n",
       "      <td>2013-06-30 23:53:10</td>\n",
       "      <td>237</td>\n",
       "      <td>E 11 St &amp; 2 Ave</td>\n",
       "      <td>40.730473</td>\n",
       "      <td>-73.986724</td>\n",
       "      <td>NaN</td>\n",
       "      <td>NaN</td>\n",
       "      <td>NaN</td>\n",
       "      <td>NaN</td>\n",
       "      <td>17208</td>\n",
       "      <td>Customer</td>\n",
       "      <td>NaN</td>\n",
       "      <td>0</td>\n",
       "    </tr>\n",
       "    <tr>\n",
       "      <th>577622</th>\n",
       "      <td>472</td>\n",
       "      <td>2013-06-30 23:44:15</td>\n",
       "      <td>2013-06-30 23:52:07</td>\n",
       "      <td>439</td>\n",
       "      <td>E 4 St &amp; 2 Ave</td>\n",
       "      <td>40.726281</td>\n",
       "      <td>-73.989780</td>\n",
       "      <td>NaN</td>\n",
       "      <td>NaN</td>\n",
       "      <td>NaN</td>\n",
       "      <td>NaN</td>\n",
       "      <td>17565</td>\n",
       "      <td>Subscriber</td>\n",
       "      <td>1963.0</td>\n",
       "      <td>1</td>\n",
       "    </tr>\n",
       "    <tr>\n",
       "      <th>577635</th>\n",
       "      <td>1263</td>\n",
       "      <td>2013-06-30 23:47:47</td>\n",
       "      <td>2013-07-01 00:08:50</td>\n",
       "      <td>472</td>\n",
       "      <td>E 32 St &amp; Park Ave</td>\n",
       "      <td>40.745712</td>\n",
       "      <td>-73.981948</td>\n",
       "      <td>NaN</td>\n",
       "      <td>NaN</td>\n",
       "      <td>NaN</td>\n",
       "      <td>NaN</td>\n",
       "      <td>16576</td>\n",
       "      <td>Subscriber</td>\n",
       "      <td>1956.0</td>\n",
       "      <td>1</td>\n",
       "    </tr>\n",
       "    <tr>\n",
       "      <th>577642</th>\n",
       "      <td>1108</td>\n",
       "      <td>2013-06-30 23:50:04</td>\n",
       "      <td>2013-07-01 00:08:32</td>\n",
       "      <td>311</td>\n",
       "      <td>Norfolk St &amp; Broome St</td>\n",
       "      <td>40.717227</td>\n",
       "      <td>-73.988021</td>\n",
       "      <td>NaN</td>\n",
       "      <td>NaN</td>\n",
       "      <td>NaN</td>\n",
       "      <td>NaN</td>\n",
       "      <td>16694</td>\n",
       "      <td>Customer</td>\n",
       "      <td>NaN</td>\n",
       "      <td>0</td>\n",
       "    </tr>\n",
       "  </tbody>\n",
       "</table>\n",
       "<p>18059 rows × 15 columns</p>\n",
       "</div>"
      ],
      "text/plain": [
       "        trip_duration            starttime             stoptime   \n",
       "56                547  2013-06-01 00:11:04  2013-06-01 00:20:11  \\\n",
       "102               537  2013-06-01 00:40:27  2013-06-01 00:49:24   \n",
       "120               472  2013-06-01 00:47:51  2013-06-01 00:55:43   \n",
       "211               153  2013-06-01 01:32:55  2013-06-01 01:35:28   \n",
       "289               841  2013-06-01 02:28:10  2013-06-01 02:42:11   \n",
       "...               ...                  ...                  ...   \n",
       "577559            357  2013-06-30 23:34:43  2013-06-30 23:40:40   \n",
       "577598            702  2013-06-30 23:41:28  2013-06-30 23:53:10   \n",
       "577622            472  2013-06-30 23:44:15  2013-06-30 23:52:07   \n",
       "577635           1263  2013-06-30 23:47:47  2013-07-01 00:08:50   \n",
       "577642           1108  2013-06-30 23:50:04  2013-07-01 00:08:32   \n",
       "\n",
       "        start station id      start station name  start station latitude   \n",
       "56                   432       E 7 St & Avenue A               40.726218  \\\n",
       "102                  482         W 15 St & 7 Ave               40.739355   \n",
       "120                  528         2 Ave & E 31 St               40.742909   \n",
       "211                  284   Greenwich Ave & 8 Ave               40.739017   \n",
       "289                  509         9 Ave & W 22 St               40.745497   \n",
       "...                  ...                     ...                     ...   \n",
       "577559               174         E 25 St & 1 Ave               40.738177   \n",
       "577598               237         E 11 St & 2 Ave               40.730473   \n",
       "577622               439          E 4 St & 2 Ave               40.726281   \n",
       "577635               472      E 32 St & Park Ave               40.745712   \n",
       "577642               311  Norfolk St & Broome St               40.717227   \n",
       "\n",
       "        start station longitude  end station id end station name   \n",
       "56                   -73.983799             NaN              NaN  \\\n",
       "102                  -73.999318             NaN              NaN   \n",
       "120                  -73.977061             NaN              NaN   \n",
       "211                  -74.002638             NaN              NaN   \n",
       "289                  -74.001971             NaN              NaN   \n",
       "...                         ...             ...              ...   \n",
       "577559               -73.977387             NaN              NaN   \n",
       "577598               -73.986724             NaN              NaN   \n",
       "577622               -73.989780             NaN              NaN   \n",
       "577635               -73.981948             NaN              NaN   \n",
       "577642               -73.988021             NaN              NaN   \n",
       "\n",
       "        end station latitude  end station longitude  bikeid    usertype   \n",
       "56                       NaN                    NaN   17470  Subscriber  \\\n",
       "102                      NaN                    NaN   15090  Subscriber   \n",
       "120                      NaN                    NaN   16257  Subscriber   \n",
       "211                      NaN                    NaN   20106  Subscriber   \n",
       "289                      NaN                    NaN   18792    Customer   \n",
       "...                      ...                    ...     ...         ...   \n",
       "577559                   NaN                    NaN   19258  Subscriber   \n",
       "577598                   NaN                    NaN   17208    Customer   \n",
       "577622                   NaN                    NaN   17565  Subscriber   \n",
       "577635                   NaN                    NaN   16576  Subscriber   \n",
       "577642                   NaN                    NaN   16694    Customer   \n",
       "\n",
       "        birth year  gender  \n",
       "56          1980.0       1  \n",
       "102         1981.0       1  \n",
       "120         1965.0       1  \n",
       "211         1987.0       1  \n",
       "289            NaN       0  \n",
       "...            ...     ...  \n",
       "577559      1986.0       1  \n",
       "577598         NaN       0  \n",
       "577622      1963.0       1  \n",
       "577635      1956.0       1  \n",
       "577642         NaN       0  \n",
       "\n",
       "[18059 rows x 15 columns]"
      ]
     },
     "execution_count": 11,
     "metadata": {},
     "output_type": "execute_result"
    }
   ],
   "source": [
    "df[df[\"end station id\"].isnull()]"
   ]
  },
  {
   "cell_type": "code",
   "execution_count": 17,
   "id": "9a02ad2a-e4eb-4099-832b-e56a0ab4ec8d",
   "metadata": {},
   "outputs": [
    {
     "data": {
      "text/plain": [
       "start station name\n",
       "W 20 St & 11 Ave          5983\n",
       "E 17 St & Broadway        5621\n",
       "Broadway & W 58 St        5401\n",
       "Broadway & E 14 St        5177\n",
       "Broadway & W 24 St        4955\n",
       "Central Park S & 6 Ave    4925\n",
       "West Thames St            4800\n",
       "West St & Chambers St     4529\n",
       "Lafayette St & E 8 St     4432\n",
       "8 Ave & W 31 St N         4409\n",
       "Name: count, dtype: int64"
      ]
     },
     "execution_count": 17,
     "metadata": {},
     "output_type": "execute_result"
    }
   ],
   "source": [
    "df['start station name'].value_counts().head(10)"
   ]
  },
  {
   "cell_type": "code",
   "execution_count": 18,
   "id": "f1643e20-aab8-4f95-8eec-f8de898dfe03",
   "metadata": {},
   "outputs": [
    {
     "data": {
      "text/plain": [
       "end station name\n",
       "W 20 St & 11 Ave          5742\n",
       "E 17 St & Broadway        5530\n",
       "Broadway & W 58 St        5308\n",
       "Central Park S & 6 Ave    5290\n",
       "West Thames St            4871\n",
       "Broadway & E 14 St        4865\n",
       "Broadway & W 24 St        4758\n",
       "West St & Chambers St     4470\n",
       "9 Ave & W 14 St           4312\n",
       "8 Ave & W 31 St N         4084\n",
       "Name: count, dtype: int64"
      ]
     },
     "execution_count": 18,
     "metadata": {},
     "output_type": "execute_result"
    }
   ],
   "source": [
    "df['end station name'].value_counts().head(10)"
   ]
  },
  {
   "cell_type": "code",
   "execution_count": null,
   "id": "82f12eab-b5d0-42ad-8e5c-841ea8e35f7c",
   "metadata": {},
   "outputs": [],
   "source": []
  }
 ],
 "metadata": {
  "kernelspec": {
   "display_name": "Python 3 (ipykernel)",
   "language": "python",
   "name": "python3"
  },
  "language_info": {
   "codemirror_mode": {
    "name": "ipython",
    "version": 3
   },
   "file_extension": ".py",
   "mimetype": "text/x-python",
   "name": "python",
   "nbconvert_exporter": "python",
   "pygments_lexer": "ipython3",
   "version": "3.11.1"
  }
 },
 "nbformat": 4,
 "nbformat_minor": 5
}
