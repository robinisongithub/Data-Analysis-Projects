{
 "cells": [
  {
   "cell_type": "markdown",
   "id": "ed81313b-f399-45a6-935c-d119a40692fb",
   "metadata": {},
   "source": [
    "<h2>Import Libraries</h2>"
   ]
  },
  {
   "cell_type": "code",
   "execution_count": 60,
   "id": "c8bd76cd-1e91-4164-8230-a4e957c537ba",
   "metadata": {},
   "outputs": [],
   "source": [
    "import pandas as pd\n",
    "import matplotlib.pyplot as plt\n",
    "import numpy as np\n",
    "import seaborn as sns\n",
    "import requests\n",
    "from os import listdir\n",
    "from os.path import isfile, join\n",
    "from datetime import datetime"
   ]
  },
  {
   "cell_type": "markdown",
   "id": "1156fb98-29c9-4854-a322-dbd33d5b1937",
   "metadata": {},
   "source": [
    "<h2>Merge CSV files to a single csv file</h2>"
   ]
  },
  {
   "cell_type": "code",
   "execution_count": 61,
   "id": "d918429e-5f5b-43b4-a921-9e1902bc1992",
   "metadata": {},
   "outputs": [],
   "source": [
    "#merge 12 month data into one single csv file\n",
    "\n",
    "#store all file names in files variable\n",
    "files = listdir('./Sales_Data')\n",
    "\n",
    "# for file in files:\n",
    "#     print(file)\n",
    "\n",
    "#We can use pandas concat to concatenate all the csv files to one\n",
    "\n",
    "#initialize empty Dataframe\n",
    "all_months_data = pd.DataFrame()\n",
    "\n",
    "#lets run a loop and append the csv to all_months_data dataframe\n",
    "\n",
    "for file in files:\n",
    "    df=pd.read_csv('./Sales_Data/'+file)\n",
    "    all_months_data = pd.concat([all_months_data,df])\n",
    "\n",
    "# lets create a csv for this mergerd data\n",
    "all_months_data.to_csv('all_months_data.csv',index=False)"
   ]
  },
  {
   "cell_type": "code",
   "execution_count": 62,
   "id": "7fdae3b9-187c-4092-b022-65a5b6988d14",
   "metadata": {},
   "outputs": [
    {
     "data": {
      "text/html": [
       "<div>\n",
       "<style scoped>\n",
       "    .dataframe tbody tr th:only-of-type {\n",
       "        vertical-align: middle;\n",
       "    }\n",
       "\n",
       "    .dataframe tbody tr th {\n",
       "        vertical-align: top;\n",
       "    }\n",
       "\n",
       "    .dataframe thead th {\n",
       "        text-align: right;\n",
       "    }\n",
       "</style>\n",
       "<table border=\"1\" class=\"dataframe\">\n",
       "  <thead>\n",
       "    <tr style=\"text-align: right;\">\n",
       "      <th></th>\n",
       "      <th>Order ID</th>\n",
       "      <th>Product</th>\n",
       "      <th>Quantity Ordered</th>\n",
       "      <th>Price Each</th>\n",
       "      <th>Order Date</th>\n",
       "      <th>Purchase Address</th>\n",
       "    </tr>\n",
       "  </thead>\n",
       "  <tbody>\n",
       "    <tr>\n",
       "      <th>0</th>\n",
       "      <td>176558</td>\n",
       "      <td>USB-C Charging Cable</td>\n",
       "      <td>2</td>\n",
       "      <td>11.95</td>\n",
       "      <td>04/19/19 08:46</td>\n",
       "      <td>917 1st St, Dallas, TX 75001</td>\n",
       "    </tr>\n",
       "    <tr>\n",
       "      <th>1</th>\n",
       "      <td>NaN</td>\n",
       "      <td>NaN</td>\n",
       "      <td>NaN</td>\n",
       "      <td>NaN</td>\n",
       "      <td>NaN</td>\n",
       "      <td>NaN</td>\n",
       "    </tr>\n",
       "    <tr>\n",
       "      <th>2</th>\n",
       "      <td>176559</td>\n",
       "      <td>Bose SoundSport Headphones</td>\n",
       "      <td>1</td>\n",
       "      <td>99.99</td>\n",
       "      <td>04/07/19 22:30</td>\n",
       "      <td>682 Chestnut St, Boston, MA 02215</td>\n",
       "    </tr>\n",
       "    <tr>\n",
       "      <th>3</th>\n",
       "      <td>176560</td>\n",
       "      <td>Google Phone</td>\n",
       "      <td>1</td>\n",
       "      <td>600</td>\n",
       "      <td>04/12/19 14:38</td>\n",
       "      <td>669 Spruce St, Los Angeles, CA 90001</td>\n",
       "    </tr>\n",
       "    <tr>\n",
       "      <th>4</th>\n",
       "      <td>176560</td>\n",
       "      <td>Wired Headphones</td>\n",
       "      <td>1</td>\n",
       "      <td>11.99</td>\n",
       "      <td>04/12/19 14:38</td>\n",
       "      <td>669 Spruce St, Los Angeles, CA 90001</td>\n",
       "    </tr>\n",
       "  </tbody>\n",
       "</table>\n",
       "</div>"
      ],
      "text/plain": [
       "  Order ID                     Product Quantity Ordered Price Each   \n",
       "0   176558        USB-C Charging Cable                2      11.95  \\\n",
       "1      NaN                         NaN              NaN        NaN   \n",
       "2   176559  Bose SoundSport Headphones                1      99.99   \n",
       "3   176560                Google Phone                1        600   \n",
       "4   176560            Wired Headphones                1      11.99   \n",
       "\n",
       "       Order Date                      Purchase Address  \n",
       "0  04/19/19 08:46          917 1st St, Dallas, TX 75001  \n",
       "1             NaN                                   NaN  \n",
       "2  04/07/19 22:30     682 Chestnut St, Boston, MA 02215  \n",
       "3  04/12/19 14:38  669 Spruce St, Los Angeles, CA 90001  \n",
       "4  04/12/19 14:38  669 Spruce St, Los Angeles, CA 90001  "
      ]
     },
     "execution_count": 62,
     "metadata": {},
     "output_type": "execute_result"
    }
   ],
   "source": [
    "all_months_data.head()"
   ]
  },
  {
   "cell_type": "markdown",
   "id": "fe2ef437-4eef-4036-b00b-838aea57254d",
   "metadata": {},
   "source": [
    "<h2>Data Inspection</h2>"
   ]
  },
  {
   "cell_type": "code",
   "execution_count": 63,
   "id": "73181dd7-bc28-4c43-8695-b8d16da6919a",
   "metadata": {},
   "outputs": [
    {
     "data": {
      "text/html": [
       "<div>\n",
       "<style scoped>\n",
       "    .dataframe tbody tr th:only-of-type {\n",
       "        vertical-align: middle;\n",
       "    }\n",
       "\n",
       "    .dataframe tbody tr th {\n",
       "        vertical-align: top;\n",
       "    }\n",
       "\n",
       "    .dataframe thead th {\n",
       "        text-align: right;\n",
       "    }\n",
       "</style>\n",
       "<table border=\"1\" class=\"dataframe\">\n",
       "  <thead>\n",
       "    <tr style=\"text-align: right;\">\n",
       "      <th></th>\n",
       "      <th>Order ID</th>\n",
       "      <th>Product</th>\n",
       "      <th>Quantity Ordered</th>\n",
       "      <th>Price Each</th>\n",
       "      <th>Order Date</th>\n",
       "      <th>Purchase Address</th>\n",
       "    </tr>\n",
       "  </thead>\n",
       "  <tbody>\n",
       "    <tr>\n",
       "      <th>0</th>\n",
       "      <td>176558</td>\n",
       "      <td>USB-C Charging Cable</td>\n",
       "      <td>2</td>\n",
       "      <td>11.95</td>\n",
       "      <td>04/19/19 08:46</td>\n",
       "      <td>917 1st St, Dallas, TX 75001</td>\n",
       "    </tr>\n",
       "    <tr>\n",
       "      <th>1</th>\n",
       "      <td>NaN</td>\n",
       "      <td>NaN</td>\n",
       "      <td>NaN</td>\n",
       "      <td>NaN</td>\n",
       "      <td>NaN</td>\n",
       "      <td>NaN</td>\n",
       "    </tr>\n",
       "  </tbody>\n",
       "</table>\n",
       "</div>"
      ],
      "text/plain": [
       "  Order ID               Product Quantity Ordered Price Each      Order Date   \n",
       "0   176558  USB-C Charging Cable                2      11.95  04/19/19 08:46  \\\n",
       "1      NaN                   NaN              NaN        NaN             NaN   \n",
       "\n",
       "               Purchase Address  \n",
       "0  917 1st St, Dallas, TX 75001  \n",
       "1                           NaN  "
      ]
     },
     "execution_count": 63,
     "metadata": {},
     "output_type": "execute_result"
    }
   ],
   "source": [
    "# Data Inspection\n",
    "df=all_months_data.copy()\n",
    "df.head(2)"
   ]
  },
  {
   "cell_type": "code",
   "execution_count": 64,
   "id": "35ed4d6e-c8e3-4ffc-be03-3cd3cc5c4fbf",
   "metadata": {},
   "outputs": [
    {
     "name": "stdout",
     "output_type": "stream",
     "text": [
      "<class 'pandas.core.frame.DataFrame'>\n",
      "Index: 186850 entries, 0 to 11685\n",
      "Data columns (total 6 columns):\n",
      " #   Column            Non-Null Count   Dtype \n",
      "---  ------            --------------   ----- \n",
      " 0   Order ID          186305 non-null  object\n",
      " 1   Product           186305 non-null  object\n",
      " 2   Quantity Ordered  186305 non-null  object\n",
      " 3   Price Each        186305 non-null  object\n",
      " 4   Order Date        186305 non-null  object\n",
      " 5   Purchase Address  186305 non-null  object\n",
      "dtypes: object(6)\n",
      "memory usage: 10.0+ MB\n"
     ]
    }
   ],
   "source": [
    "df.info()"
   ]
  },
  {
   "cell_type": "code",
   "execution_count": 65,
   "id": "ce44fc1e-9327-4ad2-802a-d4192e5e1964",
   "metadata": {},
   "outputs": [
    {
     "data": {
      "text/plain": [
       "Order ID            0\n",
       "Product             0\n",
       "Quantity Ordered    0\n",
       "Price Each          0\n",
       "Order Date          0\n",
       "Purchase Address    0\n",
       "dtype: int64"
      ]
     },
     "execution_count": 65,
     "metadata": {},
     "output_type": "execute_result"
    }
   ],
   "source": [
    "#lets check for na values\n",
    "\n",
    "#check for duplicates and remove duplicates\n",
    "df.drop_duplicates(inplace = True)\n",
    "\n",
    "df.shape\n",
    "\n",
    "#remove NA values\n",
    "df.dropna(inplace=True)\n",
    "\n",
    "df.shape\n",
    "\n",
    "df.isna().sum()"
   ]
  },
  {
   "cell_type": "code",
   "execution_count": 66,
   "id": "f5d74dae-7afc-4a8d-a421-dfdf8462a8be",
   "metadata": {},
   "outputs": [
    {
     "data": {
      "text/plain": [
       "Index(['OrderID', 'Product', 'Quantity_Ordered', 'Price_Each', 'Order_Date',\n",
       "       'Purchase_Address'],\n",
       "      dtype='object')"
      ]
     },
     "execution_count": 66,
     "metadata": {},
     "output_type": "execute_result"
    }
   ],
   "source": [
    "# lets change column names\n",
    "\n",
    "colnames = df.columns\n",
    "\n",
    "colnames\n",
    "\n",
    "newcolnames = ['OrderID','Product','Quantity_Ordered','Price_Each','Order_Date','Purchase_Address'] \n",
    "\n",
    "df.columns = newcolnames\n",
    "\n",
    "#Check if columns were Changed?\n",
    "df.columns"
   ]
  },
  {
   "cell_type": "code",
   "execution_count": 67,
   "id": "04afa71e-81ad-4a90-8c27-bec4fa0613a7",
   "metadata": {},
   "outputs": [
    {
     "name": "stdout",
     "output_type": "stream",
     "text": [
      "<class 'pandas.core.frame.DataFrame'>\n",
      "Index: 185687 entries, 0 to 11685\n",
      "Data columns (total 6 columns):\n",
      " #   Column            Non-Null Count   Dtype \n",
      "---  ------            --------------   ----- \n",
      " 0   OrderID           185687 non-null  object\n",
      " 1   Product           185687 non-null  object\n",
      " 2   Quantity_Ordered  185687 non-null  object\n",
      " 3   Price_Each        185687 non-null  object\n",
      " 4   Order_Date        185687 non-null  object\n",
      " 5   Purchase_Address  185687 non-null  object\n",
      "dtypes: object(6)\n",
      "memory usage: 9.9+ MB\n"
     ]
    }
   ],
   "source": [
    "df.info()"
   ]
  },
  {
   "cell_type": "code",
   "execution_count": null,
   "id": "617cc2b7-ef42-4654-826d-2bab0a56aa41",
   "metadata": {},
   "outputs": [],
   "source": []
  },
  {
   "cell_type": "code",
   "execution_count": 68,
   "id": "b4ad3713-fddd-49e4-88cc-005b06451e56",
   "metadata": {},
   "outputs": [],
   "source": [
    "df = df.drop(df[df['Quantity_Ordered'] == 'Quantity Ordered'].index)\n"
   ]
  },
  {
   "cell_type": "markdown",
   "id": "e7c89393-5c64-446a-95a9-d61316f2d438",
   "metadata": {},
   "source": [
    "<h1>Data Type Conversion</h1>"
   ]
  },
  {
   "cell_type": "code",
   "execution_count": 69,
   "id": "d5717808-463a-428a-841b-54bbade06eec",
   "metadata": {},
   "outputs": [],
   "source": [
    "#lest convert the data types now\n",
    "df['Quantity_Ordered']=pd.to_numeric(df['Quantity_Ordered'])"
   ]
  },
  {
   "cell_type": "code",
   "execution_count": 70,
   "id": "5b421b65-2529-45c5-bf6f-2a91342fa720",
   "metadata": {},
   "outputs": [
    {
     "name": "stdout",
     "output_type": "stream",
     "text": [
      "<class 'pandas.core.frame.DataFrame'>\n",
      "Index: 185675 entries, 0 to 11685\n",
      "Data columns (total 6 columns):\n",
      " #   Column            Non-Null Count   Dtype \n",
      "---  ------            --------------   ----- \n",
      " 0   OrderID           185675 non-null  object\n",
      " 1   Product           185675 non-null  object\n",
      " 2   Quantity_Ordered  185675 non-null  int64 \n",
      " 3   Price_Each        185675 non-null  object\n",
      " 4   Order_Date        185675 non-null  object\n",
      " 5   Purchase_Address  185675 non-null  object\n",
      "dtypes: int64(1), object(5)\n",
      "memory usage: 9.9+ MB\n"
     ]
    }
   ],
   "source": [
    "df.info()"
   ]
  },
  {
   "cell_type": "code",
   "execution_count": 71,
   "id": "98e35a83-800b-4e03-b1b4-a2260f745dda",
   "metadata": {},
   "outputs": [],
   "source": [
    "df['Price_Each']=df['Price_Each'].astype(float)"
   ]
  },
  {
   "cell_type": "code",
   "execution_count": 72,
   "id": "d4fcac9e-837b-4a23-9c2c-8444ef106b46",
   "metadata": {},
   "outputs": [
    {
     "name": "stdout",
     "output_type": "stream",
     "text": [
      "<class 'pandas.core.frame.DataFrame'>\n",
      "Index: 185675 entries, 0 to 11685\n",
      "Data columns (total 6 columns):\n",
      " #   Column            Non-Null Count   Dtype  \n",
      "---  ------            --------------   -----  \n",
      " 0   OrderID           185675 non-null  object \n",
      " 1   Product           185675 non-null  object \n",
      " 2   Quantity_Ordered  185675 non-null  int64  \n",
      " 3   Price_Each        185675 non-null  float64\n",
      " 4   Order_Date        185675 non-null  object \n",
      " 5   Purchase_Address  185675 non-null  object \n",
      "dtypes: float64(1), int64(1), object(4)\n",
      "memory usage: 9.9+ MB\n"
     ]
    }
   ],
   "source": [
    "df.info()"
   ]
  },
  {
   "cell_type": "markdown",
   "id": "e03bc7cb-f8f1-4311-a51f-ba9722974984",
   "metadata": {},
   "source": [
    "<h2>Add new Total Column</h2>"
   ]
  },
  {
   "cell_type": "code",
   "execution_count": 73,
   "id": "66726858-c744-48da-bdb9-d51bb19920c6",
   "metadata": {},
   "outputs": [],
   "source": [
    "df['Total']=df['Quantity_Ordered']*df['Price_Each']"
   ]
  },
  {
   "cell_type": "code",
   "execution_count": 74,
   "id": "99f7a980-527c-4496-bb63-a5861b99f244",
   "metadata": {},
   "outputs": [
    {
     "name": "stdout",
     "output_type": "stream",
     "text": [
      "<class 'pandas.core.frame.DataFrame'>\n",
      "Index: 185675 entries, 0 to 11685\n",
      "Data columns (total 7 columns):\n",
      " #   Column            Non-Null Count   Dtype  \n",
      "---  ------            --------------   -----  \n",
      " 0   OrderID           185675 non-null  object \n",
      " 1   Product           185675 non-null  object \n",
      " 2   Quantity_Ordered  185675 non-null  int64  \n",
      " 3   Price_Each        185675 non-null  float64\n",
      " 4   Order_Date        185675 non-null  object \n",
      " 5   Purchase_Address  185675 non-null  object \n",
      " 6   Total             185675 non-null  float64\n",
      "dtypes: float64(2), int64(1), object(4)\n",
      "memory usage: 11.3+ MB\n"
     ]
    }
   ],
   "source": [
    "df.info()"
   ]
  },
  {
   "cell_type": "code",
   "execution_count": 75,
   "id": "63dc79b6-c09c-4169-8e75-c4ea70372fdc",
   "metadata": {},
   "outputs": [],
   "source": [
    "df['Month']=df['Order_Date'].str[0:2]"
   ]
  },
  {
   "cell_type": "markdown",
   "id": "2d03567f-c3a4-4181-a77a-467032cb45cc",
   "metadata": {},
   "source": [
    "<h2>Add new Month Column</h2>"
   ]
  },
  {
   "cell_type": "code",
   "execution_count": 76,
   "id": "e149c2b5-9156-4933-9899-e2d0c4b7646a",
   "metadata": {},
   "outputs": [],
   "source": [
    "df['Month']=df['Month'].astype(int)"
   ]
  },
  {
   "cell_type": "code",
   "execution_count": 77,
   "id": "32cac62f-be84-469c-92b8-7619d0cbe598",
   "metadata": {},
   "outputs": [
    {
     "data": {
      "text/html": [
       "<div>\n",
       "<style scoped>\n",
       "    .dataframe tbody tr th:only-of-type {\n",
       "        vertical-align: middle;\n",
       "    }\n",
       "\n",
       "    .dataframe tbody tr th {\n",
       "        vertical-align: top;\n",
       "    }\n",
       "\n",
       "    .dataframe thead th {\n",
       "        text-align: right;\n",
       "    }\n",
       "</style>\n",
       "<table border=\"1\" class=\"dataframe\">\n",
       "  <thead>\n",
       "    <tr style=\"text-align: right;\">\n",
       "      <th></th>\n",
       "      <th>OrderID</th>\n",
       "      <th>Product</th>\n",
       "      <th>Quantity_Ordered</th>\n",
       "      <th>Price_Each</th>\n",
       "      <th>Order_Date</th>\n",
       "      <th>Purchase_Address</th>\n",
       "      <th>Total</th>\n",
       "      <th>Month</th>\n",
       "    </tr>\n",
       "  </thead>\n",
       "  <tbody>\n",
       "    <tr>\n",
       "      <th>0</th>\n",
       "      <td>176558</td>\n",
       "      <td>USB-C Charging Cable</td>\n",
       "      <td>2</td>\n",
       "      <td>11.95</td>\n",
       "      <td>04/19/19 08:46</td>\n",
       "      <td>917 1st St, Dallas, TX 75001</td>\n",
       "      <td>23.90</td>\n",
       "      <td>4</td>\n",
       "    </tr>\n",
       "    <tr>\n",
       "      <th>2</th>\n",
       "      <td>176559</td>\n",
       "      <td>Bose SoundSport Headphones</td>\n",
       "      <td>1</td>\n",
       "      <td>99.99</td>\n",
       "      <td>04/07/19 22:30</td>\n",
       "      <td>682 Chestnut St, Boston, MA 02215</td>\n",
       "      <td>99.99</td>\n",
       "      <td>4</td>\n",
       "    </tr>\n",
       "  </tbody>\n",
       "</table>\n",
       "</div>"
      ],
      "text/plain": [
       "  OrderID                     Product  Quantity_Ordered  Price_Each   \n",
       "0  176558        USB-C Charging Cable                 2       11.95  \\\n",
       "2  176559  Bose SoundSport Headphones                 1       99.99   \n",
       "\n",
       "       Order_Date                   Purchase_Address  Total  Month  \n",
       "0  04/19/19 08:46       917 1st St, Dallas, TX 75001  23.90      4  \n",
       "2  04/07/19 22:30  682 Chestnut St, Boston, MA 02215  99.99      4  "
      ]
     },
     "execution_count": 77,
     "metadata": {},
     "output_type": "execute_result"
    }
   ],
   "source": [
    "df.head(2)"
   ]
  },
  {
   "cell_type": "code",
   "execution_count": null,
   "id": "a63a27c7-87bb-4e1d-bc58-ecdafa534aed",
   "metadata": {},
   "outputs": [],
   "source": []
  },
  {
   "cell_type": "markdown",
   "id": "b438b69d-df37-4027-8ba5-07b4e316cccc",
   "metadata": {},
   "source": [
    "<h3>Q1. What is the best month for sales? How much was earned that month?</h3>"
   ]
  },
  {
   "cell_type": "code",
   "execution_count": 78,
   "id": "ba509c1e-301e-4fe6-8432-585c363e7f58",
   "metadata": {},
   "outputs": [
    {
     "data": {
      "text/html": [
       "<div>\n",
       "<style scoped>\n",
       "    .dataframe tbody tr th:only-of-type {\n",
       "        vertical-align: middle;\n",
       "    }\n",
       "\n",
       "    .dataframe tbody tr th {\n",
       "        vertical-align: top;\n",
       "    }\n",
       "\n",
       "    .dataframe thead th {\n",
       "        text-align: right;\n",
       "    }\n",
       "</style>\n",
       "<table border=\"1\" class=\"dataframe\">\n",
       "  <thead>\n",
       "    <tr style=\"text-align: right;\">\n",
       "      <th></th>\n",
       "      <th>OrderID</th>\n",
       "      <th>Product</th>\n",
       "      <th>Quantity_Ordered</th>\n",
       "      <th>Price_Each</th>\n",
       "      <th>Order_Date</th>\n",
       "      <th>Purchase_Address</th>\n",
       "      <th>Total</th>\n",
       "      <th>Month</th>\n",
       "    </tr>\n",
       "  </thead>\n",
       "  <tbody>\n",
       "    <tr>\n",
       "      <th>0</th>\n",
       "      <td>176558</td>\n",
       "      <td>USB-C Charging Cable</td>\n",
       "      <td>2</td>\n",
       "      <td>11.95</td>\n",
       "      <td>04/19/19 08:46</td>\n",
       "      <td>917 1st St, Dallas, TX 75001</td>\n",
       "      <td>23.90</td>\n",
       "      <td>4</td>\n",
       "    </tr>\n",
       "    <tr>\n",
       "      <th>2</th>\n",
       "      <td>176559</td>\n",
       "      <td>Bose SoundSport Headphones</td>\n",
       "      <td>1</td>\n",
       "      <td>99.99</td>\n",
       "      <td>04/07/19 22:30</td>\n",
       "      <td>682 Chestnut St, Boston, MA 02215</td>\n",
       "      <td>99.99</td>\n",
       "      <td>4</td>\n",
       "    </tr>\n",
       "  </tbody>\n",
       "</table>\n",
       "</div>"
      ],
      "text/plain": [
       "  OrderID                     Product  Quantity_Ordered  Price_Each   \n",
       "0  176558        USB-C Charging Cable                 2       11.95  \\\n",
       "2  176559  Bose SoundSport Headphones                 1       99.99   \n",
       "\n",
       "       Order_Date                   Purchase_Address  Total  Month  \n",
       "0  04/19/19 08:46       917 1st St, Dallas, TX 75001  23.90      4  \n",
       "2  04/07/19 22:30  682 Chestnut St, Boston, MA 02215  99.99      4  "
      ]
     },
     "execution_count": 78,
     "metadata": {},
     "output_type": "execute_result"
    }
   ],
   "source": [
    "df.head(2)"
   ]
  },
  {
   "cell_type": "code",
   "execution_count": 79,
   "id": "cce5c6cf-0a44-4e68-88ea-8ef156432bb5",
   "metadata": {},
   "outputs": [],
   "source": [
    "total_by_month = df.groupby('Month')['Total'].sum()"
   ]
  },
  {
   "cell_type": "code",
   "execution_count": 80,
   "id": "dfc28d9b-0065-4ebb-bd0a-e2c8849aaf03",
   "metadata": {},
   "outputs": [
    {
     "data": {
      "text/plain": [
       "Month\n",
       "12    4608280.75\n",
       "10    3734177.86\n",
       "4     3389217.98\n",
       "11    3197863.10\n",
       "5     3150506.24\n",
       "3     2804969.51\n",
       "7     2646311.32\n",
       "6     2576268.16\n",
       "8     2241071.38\n",
       "2     2200075.09\n",
       "9     2094453.74\n",
       "1     1821313.17\n",
       "Name: Total, dtype: float64"
      ]
     },
     "execution_count": 80,
     "metadata": {},
     "output_type": "execute_result"
    }
   ],
   "source": [
    "total_by_month.sort_values(ascending = False)"
   ]
  },
  {
   "cell_type": "markdown",
   "id": "deb3ed96-c042-4a40-b138-79b07fd9270a",
   "metadata": {},
   "source": [
    "December was the best month for sales as total revenue in Dec was 4608280.75"
   ]
  },
  {
   "cell_type": "markdown",
   "id": "a34bbd65-40d8-404e-a32a-b5126c39912c",
   "metadata": {},
   "source": [
    "<h4>Plotting for this data</h4>"
   ]
  },
  {
   "cell_type": "code",
   "execution_count": 81,
   "id": "5c6135ab-48b1-416b-8cdb-2a9a6e554732",
   "metadata": {},
   "outputs": [],
   "source": [
    "months = range(1,13)"
   ]
  },
  {
   "cell_type": "code",
   "execution_count": 82,
   "id": "7457faa0-e464-43a1-9ea9-2859ec0f421f",
   "metadata": {},
   "outputs": [
    {
     "data": {
      "text/plain": [
       "Text(0.5, 1.0, 'Total Sales per Month')"
      ]
     },
     "execution_count": 82,
     "metadata": {},
     "output_type": "execute_result"
    },
    {
     "data": {
      "image/png": "[encoded data removed]",
      "text/plain": [
       "<Figure size 640x480 with 1 Axes>"
      ]
     },
     "metadata": {},
     "output_type": "display_data"
    }
   ],
   "source": [
    "plt.bar(months,total_by_month,color='#f1c40f')\n",
    "plt.xticks(months)\n",
    "plt.ylabel('Sales in USD- in Million')\n",
    "plt.xlabel('Month Number')\n",
    "plt.title('Total Sales per Month')"
   ]
  },
  {
   "cell_type": "markdown",
   "id": "c9f0db7b-f4dd-49cb-ad43-273f3210be83",
   "metadata": {},
   "source": [
    "<h3>Q1. What City had highest sales?</h3>"
   ]
  },
  {
   "cell_type": "code",
   "execution_count": 83,
   "id": "80ce3c0f-cca0-4fcd-9b56-23d16dba243e",
   "metadata": {},
   "outputs": [
    {
     "data": {
      "text/html": [
       "<div>\n",
       "<style scoped>\n",
       "    .dataframe tbody tr th:only-of-type {\n",
       "        vertical-align: middle;\n",
       "    }\n",
       "\n",
       "    .dataframe tbody tr th {\n",
       "        vertical-align: top;\n",
       "    }\n",
       "\n",
       "    .dataframe thead th {\n",
       "        text-align: right;\n",
       "    }\n",
       "</style>\n",
       "<table border=\"1\" class=\"dataframe\">\n",
       "  <thead>\n",
       "    <tr style=\"text-align: right;\">\n",
       "      <th></th>\n",
       "      <th>OrderID</th>\n",
       "      <th>Product</th>\n",
       "      <th>Quantity_Ordered</th>\n",
       "      <th>Price_Each</th>\n",
       "      <th>Order_Date</th>\n",
       "      <th>Purchase_Address</th>\n",
       "      <th>Total</th>\n",
       "      <th>Month</th>\n",
       "    </tr>\n",
       "  </thead>\n",
       "  <tbody>\n",
       "    <tr>\n",
       "      <th>0</th>\n",
       "      <td>176558</td>\n",
       "      <td>USB-C Charging Cable</td>\n",
       "      <td>2</td>\n",
       "      <td>11.95</td>\n",
       "      <td>04/19/19 08:46</td>\n",
       "      <td>917 1st St, Dallas, TX 75001</td>\n",
       "      <td>23.90</td>\n",
       "      <td>4</td>\n",
       "    </tr>\n",
       "    <tr>\n",
       "      <th>2</th>\n",
       "      <td>176559</td>\n",
       "      <td>Bose SoundSport Headphones</td>\n",
       "      <td>1</td>\n",
       "      <td>99.99</td>\n",
       "      <td>04/07/19 22:30</td>\n",
       "      <td>682 Chestnut St, Boston, MA 02215</td>\n",
       "      <td>99.99</td>\n",
       "      <td>4</td>\n",
       "    </tr>\n",
       "  </tbody>\n",
       "</table>\n",
       "</div>"
      ],
      "text/plain": [
       "  OrderID                     Product  Quantity_Ordered  Price_Each   \n",
       "0  176558        USB-C Charging Cable                 2       11.95  \\\n",
       "2  176559  Bose SoundSport Headphones                 1       99.99   \n",
       "\n",
       "       Order_Date                   Purchase_Address  Total  Month  \n",
       "0  04/19/19 08:46       917 1st St, Dallas, TX 75001  23.90      4  \n",
       "2  04/07/19 22:30  682 Chestnut St, Boston, MA 02215  99.99      4  "
      ]
     },
     "execution_count": 83,
     "metadata": {},
     "output_type": "execute_result"
    }
   ],
   "source": [
    "df.head(2)"
   ]
  },
  {
   "cell_type": "markdown",
   "id": "2df4c2da-bd31-4ac3-a27c-98e1c37964b8",
   "metadata": {},
   "source": [
    "<p>We need to extract city from the data</p>"
   ]
  },
  {
   "cell_type": "code",
   "execution_count": 84,
   "id": "b72ac735-1358-4397-ac8f-d5cd9703b545",
   "metadata": {},
   "outputs": [],
   "source": [
    "df['City'] = df['Purchase_Address'].apply(lambda x: x.split(',')[1])"
   ]
  },
  {
   "cell_type": "code",
   "execution_count": 85,
   "id": "f6a7092c-b373-4aef-963f-2be982199ea8",
   "metadata": {},
   "outputs": [
    {
     "data": {
      "text/html": [
       "<div>\n",
       "<style scoped>\n",
       "    .dataframe tbody tr th:only-of-type {\n",
       "        vertical-align: middle;\n",
       "    }\n",
       "\n",
       "    .dataframe tbody tr th {\n",
       "        vertical-align: top;\n",
       "    }\n",
       "\n",
       "    .dataframe thead th {\n",
       "        text-align: right;\n",
       "    }\n",
       "</style>\n",
       "<table border=\"1\" class=\"dataframe\">\n",
       "  <thead>\n",
       "    <tr style=\"text-align: right;\">\n",
       "      <th></th>\n",
       "      <th>OrderID</th>\n",
       "      <th>Product</th>\n",
       "      <th>Quantity_Ordered</th>\n",
       "      <th>Price_Each</th>\n",
       "      <th>Order_Date</th>\n",
       "      <th>Purchase_Address</th>\n",
       "      <th>Total</th>\n",
       "      <th>Month</th>\n",
       "      <th>City</th>\n",
       "    </tr>\n",
       "  </thead>\n",
       "  <tbody>\n",
       "    <tr>\n",
       "      <th>0</th>\n",
       "      <td>176558</td>\n",
       "      <td>USB-C Charging Cable</td>\n",
       "      <td>2</td>\n",
       "      <td>11.95</td>\n",
       "      <td>04/19/19 08:46</td>\n",
       "      <td>917 1st St, Dallas, TX 75001</td>\n",
       "      <td>23.90</td>\n",
       "      <td>4</td>\n",
       "      <td>Dallas</td>\n",
       "    </tr>\n",
       "    <tr>\n",
       "      <th>2</th>\n",
       "      <td>176559</td>\n",
       "      <td>Bose SoundSport Headphones</td>\n",
       "      <td>1</td>\n",
       "      <td>99.99</td>\n",
       "      <td>04/07/19 22:30</td>\n",
       "      <td>682 Chestnut St, Boston, MA 02215</td>\n",
       "      <td>99.99</td>\n",
       "      <td>4</td>\n",
       "      <td>Boston</td>\n",
       "    </tr>\n",
       "  </tbody>\n",
       "</table>\n",
       "</div>"
      ],
      "text/plain": [
       "  OrderID                     Product  Quantity_Ordered  Price_Each   \n",
       "0  176558        USB-C Charging Cable                 2       11.95  \\\n",
       "2  176559  Bose SoundSport Headphones                 1       99.99   \n",
       "\n",
       "       Order_Date                   Purchase_Address  Total  Month     City  \n",
       "0  04/19/19 08:46       917 1st St, Dallas, TX 75001  23.90      4   Dallas  \n",
       "2  04/07/19 22:30  682 Chestnut St, Boston, MA 02215  99.99      4   Boston  "
      ]
     },
     "execution_count": 85,
     "metadata": {},
     "output_type": "execute_result"
    }
   ],
   "source": [
    "df.head(2)"
   ]
  },
  {
   "cell_type": "code",
   "execution_count": 86,
   "id": "97aed5dd-888d-43fd-81df-e7206a197819",
   "metadata": {},
   "outputs": [],
   "source": [
    "total_city = df.groupby('City')['Total'].sum()"
   ]
  },
  {
   "cell_type": "code",
   "execution_count": 87,
   "id": "258f3a4a-f259-4951-b7b1-6f7bd63f533e",
   "metadata": {},
   "outputs": [
    {
     "data": {
      "text/plain": [
       "City\n",
       " Atlanta          2794195.23\n",
       " Austin           1818029.38\n",
       " Boston           3657927.66\n",
       " Dallas           2765373.96\n",
       " Los Angeles      5448280.34\n",
       " New York City    4661714.15\n",
       " Portland         2319331.94\n",
       " San Francisco    8254609.62\n",
       " Seattle          2745046.02\n",
       "Name: Total, dtype: float64"
      ]
     },
     "execution_count": 87,
     "metadata": {},
     "output_type": "execute_result"
    }
   ],
   "source": [
    "total_city"
   ]
  },
  {
   "cell_type": "code",
   "execution_count": 88,
   "id": "d939d51a-585b-4646-88a6-f78aac7e635b",
   "metadata": {},
   "outputs": [],
   "source": [
    "cities = total_city.index"
   ]
  },
  {
   "cell_type": "code",
   "execution_count": 89,
   "id": "e8f0a2e4-7e46-445a-beff-867252b27592",
   "metadata": {},
   "outputs": [
    {
     "data": {
      "text/plain": [
       "Text(0.5, 1.0, 'Sales per City')"
      ]
     },
     "execution_count": 89,
     "metadata": {},
     "output_type": "execute_result"
    },
    {
     "data": {
      "image/png": "[encoded data removed]",
      "text/plain": [
       "<Figure size 640x480 with 1 Axes>"
      ]
     },
     "metadata": {},
     "output_type": "display_data"
    }
   ],
   "source": [
    "plt.bar(cities,total_city, color='#f1c40f')\n",
    "plt.xticks(cities,rotation = 'vertical', size=8)\n",
    "plt.xlabel('Cities')\n",
    "plt.ylabel('Sales in Millions USD')\n",
    "plt.title('Sales per City')"
   ]
  },
  {
   "cell_type": "markdown",
   "id": "44b17a41-4989-4e47-a087-aa1d22a54bff",
   "metadata": {},
   "source": [
    "San Francisco is the best performing city accounting for sales 8254609.62 USD"
   ]
  },
  {
   "cell_type": "markdown",
   "id": "4bda3da9-02f3-4385-b8de-904ac86b6ca8",
   "metadata": {},
   "source": [
    "<h3>Q1. What time should we display advertisements to maximise the likelohood of customer's buying the products?</h3>"
   ]
  },
  {
   "cell_type": "code",
   "execution_count": 90,
   "id": "175c1c1d-3483-447f-9a53-9fd0839fc864",
   "metadata": {},
   "outputs": [
    {
     "data": {
      "text/html": [
       "<div>\n",
       "<style scoped>\n",
       "    .dataframe tbody tr th:only-of-type {\n",
       "        vertical-align: middle;\n",
       "    }\n",
       "\n",
       "    .dataframe tbody tr th {\n",
       "        vertical-align: top;\n",
       "    }\n",
       "\n",
       "    .dataframe thead th {\n",
       "        text-align: right;\n",
       "    }\n",
       "</style>\n",
       "<table border=\"1\" class=\"dataframe\">\n",
       "  <thead>\n",
       "    <tr style=\"text-align: right;\">\n",
       "      <th></th>\n",
       "      <th>OrderID</th>\n",
       "      <th>Product</th>\n",
       "      <th>Quantity_Ordered</th>\n",
       "      <th>Price_Each</th>\n",
       "      <th>Order_Date</th>\n",
       "      <th>Purchase_Address</th>\n",
       "      <th>Total</th>\n",
       "      <th>Month</th>\n",
       "      <th>City</th>\n",
       "    </tr>\n",
       "  </thead>\n",
       "  <tbody>\n",
       "    <tr>\n",
       "      <th>0</th>\n",
       "      <td>176558</td>\n",
       "      <td>USB-C Charging Cable</td>\n",
       "      <td>2</td>\n",
       "      <td>11.95</td>\n",
       "      <td>04/19/19 08:46</td>\n",
       "      <td>917 1st St, Dallas, TX 75001</td>\n",
       "      <td>23.90</td>\n",
       "      <td>4</td>\n",
       "      <td>Dallas</td>\n",
       "    </tr>\n",
       "    <tr>\n",
       "      <th>2</th>\n",
       "      <td>176559</td>\n",
       "      <td>Bose SoundSport Headphones</td>\n",
       "      <td>1</td>\n",
       "      <td>99.99</td>\n",
       "      <td>04/07/19 22:30</td>\n",
       "      <td>682 Chestnut St, Boston, MA 02215</td>\n",
       "      <td>99.99</td>\n",
       "      <td>4</td>\n",
       "      <td>Boston</td>\n",
       "    </tr>\n",
       "  </tbody>\n",
       "</table>\n",
       "</div>"
      ],
      "text/plain": [
       "  OrderID                     Product  Quantity_Ordered  Price_Each   \n",
       "0  176558        USB-C Charging Cable                 2       11.95  \\\n",
       "2  176559  Bose SoundSport Headphones                 1       99.99   \n",
       "\n",
       "       Order_Date                   Purchase_Address  Total  Month     City  \n",
       "0  04/19/19 08:46       917 1st St, Dallas, TX 75001  23.90      4   Dallas  \n",
       "2  04/07/19 22:30  682 Chestnut St, Boston, MA 02215  99.99      4   Boston  "
      ]
     },
     "execution_count": 90,
     "metadata": {},
     "output_type": "execute_result"
    }
   ],
   "source": [
    "df.head(2)"
   ]
  },
  {
   "cell_type": "code",
   "execution_count": 91,
   "id": "28a08275-423c-412c-b142-f11c46e93dce",
   "metadata": {},
   "outputs": [],
   "source": [
    "#lets change the timestamp Order Date column to datetime datatype"
   ]
  },
  {
   "cell_type": "code",
   "execution_count": 92,
   "id": "2399e634-da8f-46ae-8c52-791b358bd1d3",
   "metadata": {},
   "outputs": [
    {
     "name": "stderr",
     "output_type": "stream",
     "text": [
      "C:\\Users\\sunde\\AppData\\Local\\Temp\\ipykernel_2940\\2524311366.py:1: UserWarning: Could not infer format, so each element will be parsed individually, falling back to `dateutil`. To ensure parsing is consistent and as-expected, please specify a format.\n",
      "  df['Order_Date'] = pd.to_datetime(df['Order_Date'])\n"
     ]
    }
   ],
   "source": [
    "df['Order_Date'] = pd.to_datetime(df['Order_Date'])"
   ]
  },
  {
   "cell_type": "code",
   "execution_count": 93,
   "id": "0a56b615-35e0-4361-adf3-bd09b7b860ea",
   "metadata": {},
   "outputs": [],
   "source": [
    "df['Hour']=df['Order_Date'].dt.hour"
   ]
  },
  {
   "cell_type": "code",
   "execution_count": 94,
   "id": "3658c6f2-fffc-4bad-b017-754ad0c78dbb",
   "metadata": {},
   "outputs": [
    {
     "data": {
      "text/html": [
       "<div>\n",
       "<style scoped>\n",
       "    .dataframe tbody tr th:only-of-type {\n",
       "        vertical-align: middle;\n",
       "    }\n",
       "\n",
       "    .dataframe tbody tr th {\n",
       "        vertical-align: top;\n",
       "    }\n",
       "\n",
       "    .dataframe thead th {\n",
       "        text-align: right;\n",
       "    }\n",
       "</style>\n",
       "<table border=\"1\" class=\"dataframe\">\n",
       "  <thead>\n",
       "    <tr style=\"text-align: right;\">\n",
       "      <th></th>\n",
       "      <th>OrderID</th>\n",
       "      <th>Product</th>\n",
       "      <th>Quantity_Ordered</th>\n",
       "      <th>Price_Each</th>\n",
       "      <th>Order_Date</th>\n",
       "      <th>Purchase_Address</th>\n",
       "      <th>Total</th>\n",
       "      <th>Month</th>\n",
       "      <th>City</th>\n",
       "      <th>Hour</th>\n",
       "    </tr>\n",
       "  </thead>\n",
       "  <tbody>\n",
       "    <tr>\n",
       "      <th>0</th>\n",
       "      <td>176558</td>\n",
       "      <td>USB-C Charging Cable</td>\n",
       "      <td>2</td>\n",
       "      <td>11.95</td>\n",
       "      <td>2019-04-19 08:46:00</td>\n",
       "      <td>917 1st St, Dallas, TX 75001</td>\n",
       "      <td>23.90</td>\n",
       "      <td>4</td>\n",
       "      <td>Dallas</td>\n",
       "      <td>8</td>\n",
       "    </tr>\n",
       "    <tr>\n",
       "      <th>2</th>\n",
       "      <td>176559</td>\n",
       "      <td>Bose SoundSport Headphones</td>\n",
       "      <td>1</td>\n",
       "      <td>99.99</td>\n",
       "      <td>2019-04-07 22:30:00</td>\n",
       "      <td>682 Chestnut St, Boston, MA 02215</td>\n",
       "      <td>99.99</td>\n",
       "      <td>4</td>\n",
       "      <td>Boston</td>\n",
       "      <td>22</td>\n",
       "    </tr>\n",
       "    <tr>\n",
       "      <th>3</th>\n",
       "      <td>176560</td>\n",
       "      <td>Google Phone</td>\n",
       "      <td>1</td>\n",
       "      <td>600.00</td>\n",
       "      <td>2019-04-12 14:38:00</td>\n",
       "      <td>669 Spruce St, Los Angeles, CA 90001</td>\n",
       "      <td>600.00</td>\n",
       "      <td>4</td>\n",
       "      <td>Los Angeles</td>\n",
       "      <td>14</td>\n",
       "    </tr>\n",
       "    <tr>\n",
       "      <th>4</th>\n",
       "      <td>176560</td>\n",
       "      <td>Wired Headphones</td>\n",
       "      <td>1</td>\n",
       "      <td>11.99</td>\n",
       "      <td>2019-04-12 14:38:00</td>\n",
       "      <td>669 Spruce St, Los Angeles, CA 90001</td>\n",
       "      <td>11.99</td>\n",
       "      <td>4</td>\n",
       "      <td>Los Angeles</td>\n",
       "      <td>14</td>\n",
       "    </tr>\n",
       "    <tr>\n",
       "      <th>5</th>\n",
       "      <td>176561</td>\n",
       "      <td>Wired Headphones</td>\n",
       "      <td>1</td>\n",
       "      <td>11.99</td>\n",
       "      <td>2019-04-30 09:27:00</td>\n",
       "      <td>333 8th St, Los Angeles, CA 90001</td>\n",
       "      <td>11.99</td>\n",
       "      <td>4</td>\n",
       "      <td>Los Angeles</td>\n",
       "      <td>9</td>\n",
       "    </tr>\n",
       "  </tbody>\n",
       "</table>\n",
       "</div>"
      ],
      "text/plain": [
       "  OrderID                     Product  Quantity_Ordered  Price_Each   \n",
       "0  176558        USB-C Charging Cable                 2       11.95  \\\n",
       "2  176559  Bose SoundSport Headphones                 1       99.99   \n",
       "3  176560                Google Phone                 1      600.00   \n",
       "4  176560            Wired Headphones                 1       11.99   \n",
       "5  176561            Wired Headphones                 1       11.99   \n",
       "\n",
       "           Order_Date                      Purchase_Address   Total  Month   \n",
       "0 2019-04-19 08:46:00          917 1st St, Dallas, TX 75001   23.90      4  \\\n",
       "2 2019-04-07 22:30:00     682 Chestnut St, Boston, MA 02215   99.99      4   \n",
       "3 2019-04-12 14:38:00  669 Spruce St, Los Angeles, CA 90001  600.00      4   \n",
       "4 2019-04-12 14:38:00  669 Spruce St, Los Angeles, CA 90001   11.99      4   \n",
       "5 2019-04-30 09:27:00     333 8th St, Los Angeles, CA 90001   11.99      4   \n",
       "\n",
       "           City  Hour  \n",
       "0        Dallas     8  \n",
       "2        Boston    22  \n",
       "3   Los Angeles    14  \n",
       "4   Los Angeles    14  \n",
       "5   Los Angeles     9  "
      ]
     },
     "execution_count": 94,
     "metadata": {},
     "output_type": "execute_result"
    }
   ],
   "source": [
    "df.head()"
   ]
  },
  {
   "cell_type": "code",
   "execution_count": 95,
   "id": "6b5a83ab-da46-42c6-91b4-07ce8ae12c4f",
   "metadata": {},
   "outputs": [],
   "source": [
    "total_date = df[['Hour','Total','Quantity_Ordered']]"
   ]
  },
  {
   "cell_type": "code",
   "execution_count": 96,
   "id": "4abce1ca-47b6-4f5c-bb44-ac8a780a9ac4",
   "metadata": {},
   "outputs": [
    {
     "data": {
      "text/html": [
       "<div>\n",
       "<style scoped>\n",
       "    .dataframe tbody tr th:only-of-type {\n",
       "        vertical-align: middle;\n",
       "    }\n",
       "\n",
       "    .dataframe tbody tr th {\n",
       "        vertical-align: top;\n",
       "    }\n",
       "\n",
       "    .dataframe thead th {\n",
       "        text-align: right;\n",
       "    }\n",
       "</style>\n",
       "<table border=\"1\" class=\"dataframe\">\n",
       "  <thead>\n",
       "    <tr style=\"text-align: right;\">\n",
       "      <th></th>\n",
       "      <th>Hour</th>\n",
       "      <th>Total</th>\n",
       "      <th>Quantity_Ordered</th>\n",
       "    </tr>\n",
       "  </thead>\n",
       "  <tbody>\n",
       "    <tr>\n",
       "      <th>0</th>\n",
       "      <td>8</td>\n",
       "      <td>23.90</td>\n",
       "      <td>2</td>\n",
       "    </tr>\n",
       "    <tr>\n",
       "      <th>2</th>\n",
       "      <td>22</td>\n",
       "      <td>99.99</td>\n",
       "      <td>1</td>\n",
       "    </tr>\n",
       "    <tr>\n",
       "      <th>3</th>\n",
       "      <td>14</td>\n",
       "      <td>600.00</td>\n",
       "      <td>1</td>\n",
       "    </tr>\n",
       "    <tr>\n",
       "      <th>4</th>\n",
       "      <td>14</td>\n",
       "      <td>11.99</td>\n",
       "      <td>1</td>\n",
       "    </tr>\n",
       "    <tr>\n",
       "      <th>5</th>\n",
       "      <td>9</td>\n",
       "      <td>11.99</td>\n",
       "      <td>1</td>\n",
       "    </tr>\n",
       "    <tr>\n",
       "      <th>...</th>\n",
       "      <td>...</td>\n",
       "      <td>...</td>\n",
       "      <td>...</td>\n",
       "    </tr>\n",
       "    <tr>\n",
       "      <th>11681</th>\n",
       "      <td>20</td>\n",
       "      <td>8.97</td>\n",
       "      <td>3</td>\n",
       "    </tr>\n",
       "    <tr>\n",
       "      <th>11682</th>\n",
       "      <td>16</td>\n",
       "      <td>700.00</td>\n",
       "      <td>1</td>\n",
       "    </tr>\n",
       "    <tr>\n",
       "      <th>11683</th>\n",
       "      <td>7</td>\n",
       "      <td>700.00</td>\n",
       "      <td>1</td>\n",
       "    </tr>\n",
       "    <tr>\n",
       "      <th>11684</th>\n",
       "      <td>17</td>\n",
       "      <td>379.99</td>\n",
       "      <td>1</td>\n",
       "    </tr>\n",
       "    <tr>\n",
       "      <th>11685</th>\n",
       "      <td>0</td>\n",
       "      <td>11.95</td>\n",
       "      <td>1</td>\n",
       "    </tr>\n",
       "  </tbody>\n",
       "</table>\n",
       "<p>185675 rows × 3 columns</p>\n",
       "</div>"
      ],
      "text/plain": [
       "       Hour   Total  Quantity_Ordered\n",
       "0         8   23.90                 2\n",
       "2        22   99.99                 1\n",
       "3        14  600.00                 1\n",
       "4        14   11.99                 1\n",
       "5         9   11.99                 1\n",
       "...     ...     ...               ...\n",
       "11681    20    8.97                 3\n",
       "11682    16  700.00                 1\n",
       "11683     7  700.00                 1\n",
       "11684    17  379.99                 1\n",
       "11685     0   11.95                 1\n",
       "\n",
       "[185675 rows x 3 columns]"
      ]
     },
     "execution_count": 96,
     "metadata": {},
     "output_type": "execute_result"
    }
   ],
   "source": [
    "total_date"
   ]
  },
  {
   "cell_type": "code",
   "execution_count": 97,
   "id": "df4207ee-4584-468a-b36e-55b7797ef74d",
   "metadata": {},
   "outputs": [],
   "source": [
    "qtty_hour = total_date.groupby('Hour')['Quantity_Ordered'].sum()"
   ]
  },
  {
   "cell_type": "code",
   "execution_count": 98,
   "id": "d91dd909-4d61-491d-8320-2ec60f22a1f8",
   "metadata": {},
   "outputs": [
    {
     "data": {
      "image/png": "[encoded data removed]",
      "text/plain": [
       "<Figure size 640x480 with 1 Axes>"
      ]
     },
     "metadata": {},
     "output_type": "display_data"
    }
   ],
   "source": [
    "plt.plot(qtty_hour.index,qtty_hour,color='#9b59b6')\n",
    "plt.xlabel('Hours')\n",
    "plt.ylabel('Total Quantity')\n",
    "plt.title('Total Quantity ordered per hour')\n",
    "plt.grid()\n"
   ]
  },
  {
   "cell_type": "code",
   "execution_count": 99,
   "id": "9c4597b9-21ad-48d2-9ae9-5d56dc9afb28",
   "metadata": {},
   "outputs": [],
   "source": [
    "total_hour = total_date.groupby('Hour')['Total'].sum()"
   ]
  },
  {
   "cell_type": "code",
   "execution_count": 100,
   "id": "05aaef4a-0b0e-442c-99fd-eb12b417313f",
   "metadata": {},
   "outputs": [
    {
     "data": {
      "image/png": "[encoded data removed]",
      "text/plain": [
       "<Figure size 640x480 with 1 Axes>"
      ]
     },
     "metadata": {},
     "output_type": "display_data"
    }
   ],
   "source": [
    "plt.plot(total_hour.index,total_hour,color='#9b59b6')\n",
    "plt.xlabel('Hours')\n",
    "plt.ylabel('Total Revenue')\n",
    "plt.title('Total Revenue generated per hour')\n",
    "plt.grid()"
   ]
  },
  {
   "cell_type": "markdown",
   "id": "acef9f64-73d9-4e5c-8d18-a306b20b5263",
   "metadata": {},
   "source": [
    "I would reccommend that advertising should be on steroids in the time from\n",
    "11 am or 7pm based on the graphs"
   ]
  },
  {
   "cell_type": "code",
   "execution_count": null,
   "id": "a4af9b63-7c4e-48ee-a470-40c88327ab1c",
   "metadata": {},
   "outputs": [],
   "source": []
  },
  {
   "cell_type": "code",
   "execution_count": null,
   "id": "6209137b-b5ad-49e2-9734-f1c8a9447f25",
   "metadata": {},
   "outputs": [],
   "source": []
  },
  {
   "cell_type": "markdown",
   "id": "ac6bffd1-9868-401e-9712-5b9bc6db4998",
   "metadata": {},
   "source": [
    "<h3>Q1. What products are pftern sold together?</h3>"
   ]
  },
  {
   "cell_type": "code",
   "execution_count": 101,
   "id": "37497505-c1fa-4241-81e1-d6d1e30ebd34",
   "metadata": {},
   "outputs": [
    {
     "data": {
      "text/html": [
       "<div>\n",
       "<style scoped>\n",
       "    .dataframe tbody tr th:only-of-type {\n",
       "        vertical-align: middle;\n",
       "    }\n",
       "\n",
       "    .dataframe tbody tr th {\n",
       "        vertical-align: top;\n",
       "    }\n",
       "\n",
       "    .dataframe thead th {\n",
       "        text-align: right;\n",
       "    }\n",
       "</style>\n",
       "<table border=\"1\" class=\"dataframe\">\n",
       "  <thead>\n",
       "    <tr style=\"text-align: right;\">\n",
       "      <th></th>\n",
       "      <th>OrderID</th>\n",
       "      <th>Product</th>\n",
       "      <th>Quantity_Ordered</th>\n",
       "      <th>Price_Each</th>\n",
       "      <th>Order_Date</th>\n",
       "      <th>Purchase_Address</th>\n",
       "      <th>Total</th>\n",
       "      <th>Month</th>\n",
       "      <th>City</th>\n",
       "      <th>Hour</th>\n",
       "    </tr>\n",
       "  </thead>\n",
       "  <tbody>\n",
       "    <tr>\n",
       "      <th>0</th>\n",
       "      <td>176558</td>\n",
       "      <td>USB-C Charging Cable</td>\n",
       "      <td>2</td>\n",
       "      <td>11.95</td>\n",
       "      <td>2019-04-19 08:46:00</td>\n",
       "      <td>917 1st St, Dallas, TX 75001</td>\n",
       "      <td>23.90</td>\n",
       "      <td>4</td>\n",
       "      <td>Dallas</td>\n",
       "      <td>8</td>\n",
       "    </tr>\n",
       "    <tr>\n",
       "      <th>2</th>\n",
       "      <td>176559</td>\n",
       "      <td>Bose SoundSport Headphones</td>\n",
       "      <td>1</td>\n",
       "      <td>99.99</td>\n",
       "      <td>2019-04-07 22:30:00</td>\n",
       "      <td>682 Chestnut St, Boston, MA 02215</td>\n",
       "      <td>99.99</td>\n",
       "      <td>4</td>\n",
       "      <td>Boston</td>\n",
       "      <td>22</td>\n",
       "    </tr>\n",
       "    <tr>\n",
       "      <th>3</th>\n",
       "      <td>176560</td>\n",
       "      <td>Google Phone</td>\n",
       "      <td>1</td>\n",
       "      <td>600.00</td>\n",
       "      <td>2019-04-12 14:38:00</td>\n",
       "      <td>669 Spruce St, Los Angeles, CA 90001</td>\n",
       "      <td>600.00</td>\n",
       "      <td>4</td>\n",
       "      <td>Los Angeles</td>\n",
       "      <td>14</td>\n",
       "    </tr>\n",
       "  </tbody>\n",
       "</table>\n",
       "</div>"
      ],
      "text/plain": [
       "  OrderID                     Product  Quantity_Ordered  Price_Each   \n",
       "0  176558        USB-C Charging Cable                 2       11.95  \\\n",
       "2  176559  Bose SoundSport Headphones                 1       99.99   \n",
       "3  176560                Google Phone                 1      600.00   \n",
       "\n",
       "           Order_Date                      Purchase_Address   Total  Month   \n",
       "0 2019-04-19 08:46:00          917 1st St, Dallas, TX 75001   23.90      4  \\\n",
       "2 2019-04-07 22:30:00     682 Chestnut St, Boston, MA 02215   99.99      4   \n",
       "3 2019-04-12 14:38:00  669 Spruce St, Los Angeles, CA 90001  600.00      4   \n",
       "\n",
       "           City  Hour  \n",
       "0        Dallas     8  \n",
       "2        Boston    22  \n",
       "3   Los Angeles    14  "
      ]
     },
     "execution_count": 101,
     "metadata": {},
     "output_type": "execute_result"
    }
   ],
   "source": [
    "df.head(3)"
   ]
  },
  {
   "cell_type": "code",
   "execution_count": 102,
   "id": "6ec30581-e02d-45ad-9c1b-bc7caceb7191",
   "metadata": {},
   "outputs": [],
   "source": [
    "Product_df = df.groupby(['Product','Price_Each'])['Quantity_Ordered'].sum().sort_values(ascending=False)"
   ]
  },
  {
   "cell_type": "code",
   "execution_count": 103,
   "id": "cadf0a1d-7a79-43b2-9711-a7cf33786157",
   "metadata": {},
   "outputs": [],
   "source": [
    "Product_df= pd.DataFrame(Product_df)"
   ]
  },
  {
   "cell_type": "code",
   "execution_count": 104,
   "id": "a1bf7829-b649-4e65-9aff-fe2bcfce2860",
   "metadata": {},
   "outputs": [],
   "source": [
    "Product_df.reset_index(inplace=True)"
   ]
  },
  {
   "cell_type": "code",
   "execution_count": 105,
   "id": "70036175-3ff3-4cc7-990c-a804546ac12c",
   "metadata": {},
   "outputs": [
    {
     "name": "stdout",
     "output_type": "stream",
     "text": [
      "<class 'pandas.core.frame.DataFrame'>\n",
      "RangeIndex: 19 entries, 0 to 18\n",
      "Data columns (total 3 columns):\n",
      " #   Column            Non-Null Count  Dtype  \n",
      "---  ------            --------------  -----  \n",
      " 0   Product           19 non-null     object \n",
      " 1   Price_Each        19 non-null     float64\n",
      " 2   Quantity_Ordered  19 non-null     int64  \n",
      "dtypes: float64(1), int64(1), object(1)\n",
      "memory usage: 588.0+ bytes\n"
     ]
    }
   ],
   "source": [
    "Product_df.info()"
   ]
  },
  {
   "cell_type": "code",
   "execution_count": 106,
   "id": "c2e05497-2838-44d6-b32c-629778c7263b",
   "metadata": {},
   "outputs": [
    {
     "data": {
      "image/png": "[encoded data removed]",
      "text/plain": [
       "<Figure size 640x480 with 1 Axes>"
      ]
     },
     "metadata": {},
     "output_type": "display_data"
    }
   ],
   "source": [
    "plt.scatter(Product_df['Price_Each'],Product_df['Quantity_Ordered'],marker='+',color='#e74c3c')\n",
    "plt.xlabel('Price')\n",
    "plt.ylabel('Quantity Ordered')\n",
    "plt.ylabel('Distributiion on basis of Price  and Quantity Ordered')\n",
    "plt.grid()"
   ]
  },
  {
   "cell_type": "code",
   "execution_count": 107,
   "id": "e62c72d9-704b-41fe-a0af-4cb97f555eca",
   "metadata": {},
   "outputs": [
    {
     "data": {
      "text/html": [
       "<div>\n",
       "<style scoped>\n",
       "    .dataframe tbody tr th:only-of-type {\n",
       "        vertical-align: middle;\n",
       "    }\n",
       "\n",
       "    .dataframe tbody tr th {\n",
       "        vertical-align: top;\n",
       "    }\n",
       "\n",
       "    .dataframe thead th {\n",
       "        text-align: right;\n",
       "    }\n",
       "</style>\n",
       "<table border=\"1\" class=\"dataframe\">\n",
       "  <thead>\n",
       "    <tr style=\"text-align: right;\">\n",
       "      <th></th>\n",
       "      <th>Product</th>\n",
       "      <th>Price_Each</th>\n",
       "      <th>Quantity_Ordered</th>\n",
       "    </tr>\n",
       "  </thead>\n",
       "  <tbody>\n",
       "    <tr>\n",
       "      <th>0</th>\n",
       "      <td>AAA Batteries (4-pack)</td>\n",
       "      <td>2.99</td>\n",
       "      <td>30985</td>\n",
       "    </tr>\n",
       "    <tr>\n",
       "      <th>1</th>\n",
       "      <td>AA Batteries (4-pack)</td>\n",
       "      <td>3.84</td>\n",
       "      <td>27614</td>\n",
       "    </tr>\n",
       "    <tr>\n",
       "      <th>2</th>\n",
       "      <td>USB-C Charging Cable</td>\n",
       "      <td>11.95</td>\n",
       "      <td>23929</td>\n",
       "    </tr>\n",
       "    <tr>\n",
       "      <th>3</th>\n",
       "      <td>Lightning Charging Cable</td>\n",
       "      <td>14.95</td>\n",
       "      <td>23168</td>\n",
       "    </tr>\n",
       "    <tr>\n",
       "      <th>4</th>\n",
       "      <td>Wired Headphones</td>\n",
       "      <td>11.99</td>\n",
       "      <td>20522</td>\n",
       "    </tr>\n",
       "    <tr>\n",
       "      <th>5</th>\n",
       "      <td>Apple Airpods Headphones</td>\n",
       "      <td>150.00</td>\n",
       "      <td>15636</td>\n",
       "    </tr>\n",
       "    <tr>\n",
       "      <th>6</th>\n",
       "      <td>Bose SoundSport Headphones</td>\n",
       "      <td>99.99</td>\n",
       "      <td>13429</td>\n",
       "    </tr>\n",
       "    <tr>\n",
       "      <th>7</th>\n",
       "      <td>27in FHD Monitor</td>\n",
       "      <td>149.99</td>\n",
       "      <td>7541</td>\n",
       "    </tr>\n",
       "    <tr>\n",
       "      <th>8</th>\n",
       "      <td>iPhone</td>\n",
       "      <td>700.00</td>\n",
       "      <td>6847</td>\n",
       "    </tr>\n",
       "    <tr>\n",
       "      <th>9</th>\n",
       "      <td>27in 4K Gaming Monitor</td>\n",
       "      <td>389.99</td>\n",
       "      <td>6239</td>\n",
       "    </tr>\n",
       "    <tr>\n",
       "      <th>10</th>\n",
       "      <td>34in Ultrawide Monitor</td>\n",
       "      <td>379.99</td>\n",
       "      <td>6192</td>\n",
       "    </tr>\n",
       "    <tr>\n",
       "      <th>11</th>\n",
       "      <td>Google Phone</td>\n",
       "      <td>600.00</td>\n",
       "      <td>5528</td>\n",
       "    </tr>\n",
       "    <tr>\n",
       "      <th>12</th>\n",
       "      <td>Flatscreen TV</td>\n",
       "      <td>300.00</td>\n",
       "      <td>4813</td>\n",
       "    </tr>\n",
       "    <tr>\n",
       "      <th>13</th>\n",
       "      <td>Macbook Pro Laptop</td>\n",
       "      <td>1700.00</td>\n",
       "      <td>4725</td>\n",
       "    </tr>\n",
       "    <tr>\n",
       "      <th>14</th>\n",
       "      <td>ThinkPad Laptop</td>\n",
       "      <td>999.99</td>\n",
       "      <td>4128</td>\n",
       "    </tr>\n",
       "    <tr>\n",
       "      <th>15</th>\n",
       "      <td>20in Monitor</td>\n",
       "      <td>109.99</td>\n",
       "      <td>4125</td>\n",
       "    </tr>\n",
       "    <tr>\n",
       "      <th>16</th>\n",
       "      <td>Vareebadd Phone</td>\n",
       "      <td>400.00</td>\n",
       "      <td>2068</td>\n",
       "    </tr>\n",
       "    <tr>\n",
       "      <th>17</th>\n",
       "      <td>LG Washing Machine</td>\n",
       "      <td>600.00</td>\n",
       "      <td>666</td>\n",
       "    </tr>\n",
       "    <tr>\n",
       "      <th>18</th>\n",
       "      <td>LG Dryer</td>\n",
       "      <td>600.00</td>\n",
       "      <td>646</td>\n",
       "    </tr>\n",
       "  </tbody>\n",
       "</table>\n",
       "</div>"
      ],
      "text/plain": [
       "                       Product  Price_Each  Quantity_Ordered\n",
       "0       AAA Batteries (4-pack)        2.99             30985\n",
       "1        AA Batteries (4-pack)        3.84             27614\n",
       "2         USB-C Charging Cable       11.95             23929\n",
       "3     Lightning Charging Cable       14.95             23168\n",
       "4             Wired Headphones       11.99             20522\n",
       "5     Apple Airpods Headphones      150.00             15636\n",
       "6   Bose SoundSport Headphones       99.99             13429\n",
       "7             27in FHD Monitor      149.99              7541\n",
       "8                       iPhone      700.00              6847\n",
       "9       27in 4K Gaming Monitor      389.99              6239\n",
       "10      34in Ultrawide Monitor      379.99              6192\n",
       "11                Google Phone      600.00              5528\n",
       "12               Flatscreen TV      300.00              4813\n",
       "13          Macbook Pro Laptop     1700.00              4725\n",
       "14             ThinkPad Laptop      999.99              4128\n",
       "15                20in Monitor      109.99              4125\n",
       "16             Vareebadd Phone      400.00              2068\n",
       "17          LG Washing Machine      600.00               666\n",
       "18                    LG Dryer      600.00               646"
      ]
     },
     "execution_count": 107,
     "metadata": {},
     "output_type": "execute_result"
    }
   ],
   "source": [
    "Product_df"
   ]
  },
  {
   "cell_type": "code",
   "execution_count": 108,
   "id": "f63bcacf-7c73-47b1-9021-517009aaf83d",
   "metadata": {},
   "outputs": [],
   "source": [
    "extrap = df[df['OrderID'].duplicated(keep=False)]"
   ]
  },
  {
   "cell_type": "code",
   "execution_count": 109,
   "id": "7727b9c8-0031-45da-ba5e-b84b5c925fc5",
   "metadata": {},
   "outputs": [
    {
     "data": {
      "text/html": [
       "<div>\n",
       "<style scoped>\n",
       "    .dataframe tbody tr th:only-of-type {\n",
       "        vertical-align: middle;\n",
       "    }\n",
       "\n",
       "    .dataframe tbody tr th {\n",
       "        vertical-align: top;\n",
       "    }\n",
       "\n",
       "    .dataframe thead th {\n",
       "        text-align: right;\n",
       "    }\n",
       "</style>\n",
       "<table border=\"1\" class=\"dataframe\">\n",
       "  <thead>\n",
       "    <tr style=\"text-align: right;\">\n",
       "      <th></th>\n",
       "      <th>OrderID</th>\n",
       "      <th>Product</th>\n",
       "      <th>Quantity_Ordered</th>\n",
       "      <th>Price_Each</th>\n",
       "      <th>Order_Date</th>\n",
       "      <th>Purchase_Address</th>\n",
       "      <th>Total</th>\n",
       "      <th>Month</th>\n",
       "      <th>City</th>\n",
       "      <th>Hour</th>\n",
       "    </tr>\n",
       "  </thead>\n",
       "  <tbody>\n",
       "    <tr>\n",
       "      <th>3</th>\n",
       "      <td>176560</td>\n",
       "      <td>Google Phone</td>\n",
       "      <td>1</td>\n",
       "      <td>600.00</td>\n",
       "      <td>2019-04-12 14:38:00</td>\n",
       "      <td>669 Spruce St, Los Angeles, CA 90001</td>\n",
       "      <td>600.00</td>\n",
       "      <td>4</td>\n",
       "      <td>Los Angeles</td>\n",
       "      <td>14</td>\n",
       "    </tr>\n",
       "    <tr>\n",
       "      <th>4</th>\n",
       "      <td>176560</td>\n",
       "      <td>Wired Headphones</td>\n",
       "      <td>1</td>\n",
       "      <td>11.99</td>\n",
       "      <td>2019-04-12 14:38:00</td>\n",
       "      <td>669 Spruce St, Los Angeles, CA 90001</td>\n",
       "      <td>11.99</td>\n",
       "      <td>4</td>\n",
       "      <td>Los Angeles</td>\n",
       "      <td>14</td>\n",
       "    </tr>\n",
       "  </tbody>\n",
       "</table>\n",
       "</div>"
      ],
      "text/plain": [
       "  OrderID           Product  Quantity_Ordered  Price_Each          Order_Date   \n",
       "3  176560      Google Phone                 1      600.00 2019-04-12 14:38:00  \\\n",
       "4  176560  Wired Headphones                 1       11.99 2019-04-12 14:38:00   \n",
       "\n",
       "                       Purchase_Address   Total  Month          City  Hour  \n",
       "3  669 Spruce St, Los Angeles, CA 90001  600.00      4   Los Angeles    14  \n",
       "4  669 Spruce St, Los Angeles, CA 90001   11.99      4   Los Angeles    14  "
      ]
     },
     "execution_count": 109,
     "metadata": {},
     "output_type": "execute_result"
    }
   ],
   "source": [
    "extrap.head(2)"
   ]
  },
  {
   "cell_type": "code",
   "execution_count": 110,
   "id": "559b116b-f3f3-4056-b97e-9a3055c46f70",
   "metadata": {},
   "outputs": [
    {
     "name": "stderr",
     "output_type": "stream",
     "text": [
      "C:\\Users\\sunde\\AppData\\Local\\Temp\\ipykernel_2940\\3170414266.py:1: SettingWithCopyWarning: \n",
      "A value is trying to be set on a copy of a slice from a DataFrame.\n",
      "Try using .loc[row_indexer,col_indexer] = value instead\n",
      "\n",
      "See the caveats in the documentation: https://pandas.pydata.org/pandas-docs/stable/user_guide/indexing.html#returning-a-view-versus-a-copy\n",
      "  extrap['Grouped'] = extrap.groupby('OrderID')['Product'].transform(lambda x:','.join(x))\n"
     ]
    }
   ],
   "source": [
    "extrap['Grouped'] = extrap.groupby('OrderID')['Product'].transform(lambda x:','.join(x))"
   ]
  },
  {
   "cell_type": "code",
   "execution_count": 111,
   "id": "dd5d98f0-091a-4cdd-805c-3df6d9207c04",
   "metadata": {},
   "outputs": [
    {
     "data": {
      "text/html": [
       "<div>\n",
       "<style scoped>\n",
       "    .dataframe tbody tr th:only-of-type {\n",
       "        vertical-align: middle;\n",
       "    }\n",
       "\n",
       "    .dataframe tbody tr th {\n",
       "        vertical-align: top;\n",
       "    }\n",
       "\n",
       "    .dataframe thead th {\n",
       "        text-align: right;\n",
       "    }\n",
       "</style>\n",
       "<table border=\"1\" class=\"dataframe\">\n",
       "  <thead>\n",
       "    <tr style=\"text-align: right;\">\n",
       "      <th></th>\n",
       "      <th>OrderID</th>\n",
       "      <th>Product</th>\n",
       "      <th>Quantity_Ordered</th>\n",
       "      <th>Price_Each</th>\n",
       "      <th>Order_Date</th>\n",
       "      <th>Purchase_Address</th>\n",
       "      <th>Total</th>\n",
       "      <th>Month</th>\n",
       "      <th>City</th>\n",
       "      <th>Hour</th>\n",
       "      <th>Grouped</th>\n",
       "    </tr>\n",
       "  </thead>\n",
       "  <tbody>\n",
       "    <tr>\n",
       "      <th>3</th>\n",
       "      <td>176560</td>\n",
       "      <td>Google Phone</td>\n",
       "      <td>1</td>\n",
       "      <td>600.00</td>\n",
       "      <td>2019-04-12 14:38:00</td>\n",
       "      <td>669 Spruce St, Los Angeles, CA 90001</td>\n",
       "      <td>600.00</td>\n",
       "      <td>4</td>\n",
       "      <td>Los Angeles</td>\n",
       "      <td>14</td>\n",
       "      <td>Google Phone,Wired Headphones</td>\n",
       "    </tr>\n",
       "    <tr>\n",
       "      <th>4</th>\n",
       "      <td>176560</td>\n",
       "      <td>Wired Headphones</td>\n",
       "      <td>1</td>\n",
       "      <td>11.99</td>\n",
       "      <td>2019-04-12 14:38:00</td>\n",
       "      <td>669 Spruce St, Los Angeles, CA 90001</td>\n",
       "      <td>11.99</td>\n",
       "      <td>4</td>\n",
       "      <td>Los Angeles</td>\n",
       "      <td>14</td>\n",
       "      <td>Google Phone,Wired Headphones</td>\n",
       "    </tr>\n",
       "    <tr>\n",
       "      <th>18</th>\n",
       "      <td>176574</td>\n",
       "      <td>Google Phone</td>\n",
       "      <td>1</td>\n",
       "      <td>600.00</td>\n",
       "      <td>2019-04-03 19:42:00</td>\n",
       "      <td>20 Hill St, Los Angeles, CA 90001</td>\n",
       "      <td>600.00</td>\n",
       "      <td>4</td>\n",
       "      <td>Los Angeles</td>\n",
       "      <td>19</td>\n",
       "      <td>Google Phone,USB-C Charging Cable</td>\n",
       "    </tr>\n",
       "    <tr>\n",
       "      <th>19</th>\n",
       "      <td>176574</td>\n",
       "      <td>USB-C Charging Cable</td>\n",
       "      <td>1</td>\n",
       "      <td>11.95</td>\n",
       "      <td>2019-04-03 19:42:00</td>\n",
       "      <td>20 Hill St, Los Angeles, CA 90001</td>\n",
       "      <td>11.95</td>\n",
       "      <td>4</td>\n",
       "      <td>Los Angeles</td>\n",
       "      <td>19</td>\n",
       "      <td>Google Phone,USB-C Charging Cable</td>\n",
       "    </tr>\n",
       "    <tr>\n",
       "      <th>32</th>\n",
       "      <td>176586</td>\n",
       "      <td>AAA Batteries (4-pack)</td>\n",
       "      <td>2</td>\n",
       "      <td>2.99</td>\n",
       "      <td>2019-04-10 17:00:00</td>\n",
       "      <td>365 Center St, San Francisco, CA 94016</td>\n",
       "      <td>5.98</td>\n",
       "      <td>4</td>\n",
       "      <td>San Francisco</td>\n",
       "      <td>17</td>\n",
       "      <td>AAA Batteries (4-pack),Google Phone</td>\n",
       "    </tr>\n",
       "  </tbody>\n",
       "</table>\n",
       "</div>"
      ],
      "text/plain": [
       "   OrderID                 Product  Quantity_Ordered  Price_Each   \n",
       "3   176560            Google Phone                 1      600.00  \\\n",
       "4   176560        Wired Headphones                 1       11.99   \n",
       "18  176574            Google Phone                 1      600.00   \n",
       "19  176574    USB-C Charging Cable                 1       11.95   \n",
       "32  176586  AAA Batteries (4-pack)                 2        2.99   \n",
       "\n",
       "            Order_Date                        Purchase_Address   Total  Month   \n",
       "3  2019-04-12 14:38:00    669 Spruce St, Los Angeles, CA 90001  600.00      4  \\\n",
       "4  2019-04-12 14:38:00    669 Spruce St, Los Angeles, CA 90001   11.99      4   \n",
       "18 2019-04-03 19:42:00       20 Hill St, Los Angeles, CA 90001  600.00      4   \n",
       "19 2019-04-03 19:42:00       20 Hill St, Los Angeles, CA 90001   11.95      4   \n",
       "32 2019-04-10 17:00:00  365 Center St, San Francisco, CA 94016    5.98      4   \n",
       "\n",
       "              City  Hour                              Grouped  \n",
       "3      Los Angeles    14        Google Phone,Wired Headphones  \n",
       "4      Los Angeles    14        Google Phone,Wired Headphones  \n",
       "18     Los Angeles    19    Google Phone,USB-C Charging Cable  \n",
       "19     Los Angeles    19    Google Phone,USB-C Charging Cable  \n",
       "32   San Francisco    17  AAA Batteries (4-pack),Google Phone  "
      ]
     },
     "execution_count": 111,
     "metadata": {},
     "output_type": "execute_result"
    }
   ],
   "source": [
    "extrap.head()"
   ]
  },
  {
   "cell_type": "code",
   "execution_count": 112,
   "id": "7e243e33-0b7c-4e3f-8ddd-4b49af6894eb",
   "metadata": {},
   "outputs": [
    {
     "data": {
      "text/plain": [
       "Grouped\n",
       "iPhone,Lightning Charging Cable             1772\n",
       "Google Phone,USB-C Charging Cable           1714\n",
       "iPhone,Wired Headphones                      722\n",
       "Vareebadd Phone,USB-C Charging Cable         624\n",
       "Google Phone,Wired Headphones                606\n",
       "                                            ... \n",
       "20in Monitor,LG Washing Machine                2\n",
       "LG Dryer,Google Phone                          2\n",
       "Vareebadd Phone,27in FHD Monitor               2\n",
       "iPhone,Google Phone                            2\n",
       "LG Washing Machine,AA Batteries (4-pack)       2\n",
       "Name: count, Length: 350, dtype: int64"
      ]
     },
     "execution_count": 112,
     "metadata": {},
     "output_type": "execute_result"
    }
   ],
   "source": [
    "extrap['Grouped'].value_counts()"
   ]
  },
  {
   "cell_type": "code",
   "execution_count": 113,
   "id": "aefb4581-c600-40b6-b4cc-e66b51c87c60",
   "metadata": {},
   "outputs": [
    {
     "name": "stderr",
     "output_type": "stream",
     "text": [
      "C:\\Users\\sunde\\AppData\\Local\\Temp\\ipykernel_2940\\161968424.py:1: SettingWithCopyWarning: \n",
      "A value is trying to be set on a copy of a slice from a DataFrame\n",
      "\n",
      "See the caveats in the documentation: https://pandas.pydata.org/pandas-docs/stable/user_guide/indexing.html#returning-a-view-versus-a-copy\n",
      "  extrap[['OrderID','Grouped']].drop_duplicates(inplace = True)\n"
     ]
    }
   ],
   "source": [
    "extrap[['OrderID','Grouped']].drop_duplicates(inplace = True)"
   ]
  },
  {
   "cell_type": "code",
   "execution_count": 114,
   "id": "810cb7bb-88fc-4a6a-acc5-332572ba0ba0",
   "metadata": {},
   "outputs": [],
   "source": [
    "common = pd.DataFrame(extrap['Grouped'].value_counts())"
   ]
  },
  {
   "cell_type": "code",
   "execution_count": 115,
   "id": "a8bc7da4-ef1d-4017-99d1-3750f859edd0",
   "metadata": {},
   "outputs": [],
   "source": [
    "common.reset_index(inplace=True)"
   ]
  },
  {
   "cell_type": "code",
   "execution_count": 116,
   "id": "366483fc-275e-4fbe-adb3-cbe4a8bc1470",
   "metadata": {},
   "outputs": [
    {
     "data": {
      "text/html": [
       "<div>\n",
       "<style scoped>\n",
       "    .dataframe tbody tr th:only-of-type {\n",
       "        vertical-align: middle;\n",
       "    }\n",
       "\n",
       "    .dataframe tbody tr th {\n",
       "        vertical-align: top;\n",
       "    }\n",
       "\n",
       "    .dataframe thead th {\n",
       "        text-align: right;\n",
       "    }\n",
       "</style>\n",
       "<table border=\"1\" class=\"dataframe\">\n",
       "  <thead>\n",
       "    <tr style=\"text-align: right;\">\n",
       "      <th></th>\n",
       "      <th>Grouped</th>\n",
       "      <th>count</th>\n",
       "    </tr>\n",
       "  </thead>\n",
       "  <tbody>\n",
       "    <tr>\n",
       "      <th>0</th>\n",
       "      <td>iPhone,Lightning Charging Cable</td>\n",
       "      <td>1772</td>\n",
       "    </tr>\n",
       "    <tr>\n",
       "      <th>1</th>\n",
       "      <td>Google Phone,USB-C Charging Cable</td>\n",
       "      <td>1714</td>\n",
       "    </tr>\n",
       "    <tr>\n",
       "      <th>2</th>\n",
       "      <td>iPhone,Wired Headphones</td>\n",
       "      <td>722</td>\n",
       "    </tr>\n",
       "    <tr>\n",
       "      <th>3</th>\n",
       "      <td>Vareebadd Phone,USB-C Charging Cable</td>\n",
       "      <td>624</td>\n",
       "    </tr>\n",
       "    <tr>\n",
       "      <th>4</th>\n",
       "      <td>Google Phone,Wired Headphones</td>\n",
       "      <td>606</td>\n",
       "    </tr>\n",
       "    <tr>\n",
       "      <th>5</th>\n",
       "      <td>iPhone,Apple Airpods Headphones</td>\n",
       "      <td>572</td>\n",
       "    </tr>\n",
       "    <tr>\n",
       "      <th>6</th>\n",
       "      <td>Google Phone,Bose SoundSport Headphones</td>\n",
       "      <td>322</td>\n",
       "    </tr>\n",
       "    <tr>\n",
       "      <th>7</th>\n",
       "      <td>Google Phone,USB-C Charging Cable,Wired Headph...</td>\n",
       "      <td>237</td>\n",
       "    </tr>\n",
       "    <tr>\n",
       "      <th>8</th>\n",
       "      <td>Vareebadd Phone,Wired Headphones</td>\n",
       "      <td>208</td>\n",
       "    </tr>\n",
       "    <tr>\n",
       "      <th>9</th>\n",
       "      <td>iPhone,Lightning Charging Cable,Wired Headphones</td>\n",
       "      <td>168</td>\n",
       "    </tr>\n",
       "  </tbody>\n",
       "</table>\n",
       "</div>"
      ],
      "text/plain": [
       "                                             Grouped  count\n",
       "0                    iPhone,Lightning Charging Cable   1772\n",
       "1                  Google Phone,USB-C Charging Cable   1714\n",
       "2                            iPhone,Wired Headphones    722\n",
       "3               Vareebadd Phone,USB-C Charging Cable    624\n",
       "4                      Google Phone,Wired Headphones    606\n",
       "5                    iPhone,Apple Airpods Headphones    572\n",
       "6            Google Phone,Bose SoundSport Headphones    322\n",
       "7  Google Phone,USB-C Charging Cable,Wired Headph...    237\n",
       "8                   Vareebadd Phone,Wired Headphones    208\n",
       "9   iPhone,Lightning Charging Cable,Wired Headphones    168"
      ]
     },
     "execution_count": 116,
     "metadata": {},
     "output_type": "execute_result"
    }
   ],
   "source": [
    "common = common.head(10)\n",
    "common"
   ]
  },
  {
   "cell_type": "code",
   "execution_count": 117,
   "id": "388e8b92-0c81-4e0a-9b95-08d4c756bf1e",
   "metadata": {},
   "outputs": [
    {
     "data": {
      "text/plain": [
       "([<matplotlib.axis.XTick at 0x23b0409df50>,\n",
       "  <matplotlib.axis.XTick at 0x23b0f9a4dd0>,\n",
       "  <matplotlib.axis.XTick at 0x23b04d5d6d0>,\n",
       "  <matplotlib.axis.XTick at 0x23b0c857390>,\n",
       "  <matplotlib.axis.XTick at 0x23b0c85cf10>,\n",
       "  <matplotlib.axis.XTick at 0x23b0c85dc50>,\n",
       "  <matplotlib.axis.XTick at 0x23b0f9fabd0>,\n",
       "  <matplotlib.axis.XTick at 0x23b0f9fb1d0>,\n",
       "  <matplotlib.axis.XTick at 0x23b0c7d4d10>,\n",
       "  <matplotlib.axis.XTick at 0x23b0c833f10>],\n",
       " [Text(0.0, 0, 'iPhone,Lightning Charging Cable'),\n",
       "  Text(1.0, 0, 'Google Phone,USB-C Charging Cable'),\n",
       "  Text(2.0, 0, 'iPhone,Wired Headphones'),\n",
       "  Text(3.0, 0, 'Vareebadd Phone,USB-C Charging Cable'),\n",
       "  Text(4.0, 0, 'Google Phone,Wired Headphones'),\n",
       "  Text(5.0, 0, 'iPhone,Apple Airpods Headphones'),\n",
       "  Text(6.0, 0, 'Google Phone,Bose SoundSport Headphones'),\n",
       "  Text(7.0, 0, 'Google Phone,USB-C Charging Cable,Wired Headphones'),\n",
       "  Text(8.0, 0, 'Vareebadd Phone,Wired Headphones'),\n",
       "  Text(9.0, 0, 'iPhone,Lightning Charging Cable,Wired Headphones')])"
      ]
     },
     "execution_count": 117,
     "metadata": {},
     "output_type": "execute_result"
    },
    {
     "data": {
      "image/png": "[encoded data removed]",
      "text/plain": [
       "<Figure size 640x480 with 1 Axes>"
      ]
     },
     "metadata": {},
     "output_type": "display_data"
    }
   ],
   "source": [
    "plt.bar(common['Grouped'],common['count'],color='#f1c40f')\n",
    "plt.xticks(common['Grouped'],rotation='vertical',size = 8)"
   ]
  },
  {
   "cell_type": "markdown",
   "id": "d76b7144-6833-4c4a-933d-8c20f272b043",
   "metadata": {},
   "source": [
    "Most of the times when purchasaes were made, cables were sold the most together with phones as well as headphones, also these items are not that expensive as compared to Driers,laptops and washing machines."
   ]
  }
 ],
 "metadata": {
  "kernelspec": {
   "display_name": "Python 3 (ipykernel)",
   "language": "python",
   "name": "python3"
  },
  "language_info": {
   "codemirror_mode": {
    "name": "ipython",
    "version": 3
   },
   "file_extension": ".py",
   "mimetype": "text/x-python",
   "name": "python",
   "nbconvert_exporter": "python",
   "pygments_lexer": "ipython3",
   "version": "3.11.5"
  }
 },
 "nbformat": 4,
 "nbformat_minor": 5
}
